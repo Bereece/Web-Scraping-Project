{
  "cells": [
    {
      "cell_type": "markdown",
      "metadata": {
        "id": "ZvduEy-bvou7"
      },
      "source": [
        "# Scraping Medical Research Topics on TED Talks\n"
      ]
    },
    {
      "cell_type": "markdown",
      "source": [
        "## About Web Scraping\n",
        "\n",
        "\n",
        "Data analysts analyze and report insights gleaned from data. Ever wondered how these data is collected? That's where knowledge of web scraping comes in handy.\n",
        "\n",
        "### What is web scraping?\n",
        "\n",
        "Web scraping is a technique used to extract content and data from websites.The data extracted is stored in databases and retrieved later to perform analysis and communicate insights.\n",
        "\n",
        "*“Data are just summaries of thousands of stories.”* **– By Chip & Dan Heath**\n",
        "\n",
        "Given that large amounts of data is extracted, web scraping automates tasks that might otherwise take humans far longer, or even be impossible to complete on a timely basis.\n",
        "\n",
        "How does web scraping work?\n",
        "\n",
        "Hypertext Markup Language(HTML) is used to give structure to websites. A mark-up language is universal meaning scrapers can easily pinpoint specific elements within them and extract content.\n",
        "\n",
        "A general process of web scraping follows these steps:\n",
        "\n",
        "- Identifying a site to scrape.\n",
        "- Use `Request` to fetch the HTML code.\n",
        "- Locate HTML elements using Beautiful Soup.\n",
        "- Use Pandas to create CSV  files.\n"
      ],
      "metadata": {
        "id": "OIkD5hitBZi-"
      }
    },
    {
      "cell_type": "markdown",
      "metadata": {
        "id": "tZUPQw06vovG"
      },
      "source": [
        "## About TED Talks:\n",
        "\n",
        "TED Conferences LLC(Technology, Entertainment, Design) is an American media organization that posts talks online for free distribution under the slogan \"ideas worth spreading\".TED's early emphasis was on technology and design, consistent with its Silicon Valley origins. It has since broadened its perspective to include talks on many scientific, cultural, political, humanitarian and academic topics.\n",
        "\n",
        "In this project, we are going to scrape inspirational medical research topic presented on Ted Talks.\n",
        "\n",
        "\n",
        "![Title](https://i.ibb.co/PDPrnVW/ashraful-islam-p-Rt3-JVYl-Jho-unsplash.jpg)\n",
        "\n",
        "\n",
        "Photo by <a href=\"https://unsplash.com/@ashraful25?utm_content=creditCopyText&utm_medium=referral&utm_source=unsplash\">Ashraful Islam</a> on <a href=\"https://unsplash.com/photos/a-double-strand-of-blue-and-white-spirals-pRt3JVYlJho?utm_content=creditCopyText&utm_medium=referral&utm_source=unsplash\">Unsplash</a>\n",
        "      "
      ]
    },
    {
      "cell_type": "markdown",
      "metadata": {
        "id": "cgn7_VjQvovH"
      },
      "source": [
        "## Website of Interest and Objectives\n",
        "\n",
        "Our website of interest is https://www.ted.com/talks?page=1&sort=popular&topics%5B%5D=medical+research\n",
        "\n",
        "As earlier mentioned, this site contains talks. From the talks posted we want to extract the following information.\n",
        "- Title of the talk\n",
        "- The speaker\n",
        "- Talk URL\n",
        "- Duration of the talk\n",
        "- Talk views\n",
        "\n"
      ]
    },
    {
      "cell_type": "markdown",
      "metadata": {
        "id": "gifBQUN7vovH"
      },
      "source": [
        "## Web Scraping Toolbox\n",
        "\n",
        "Before we proceed to the next step, let's learn a little bit about the tools that we will use for web scraping. We will make use of three python libraries for this project.\n",
        "\n",
        "`Requests`\n",
        "- for making various types of HTTP requests.\n",
        "\n",
        "`Beautiful Soup`\n",
        "- for pulling data out of HTML and XML files.\n",
        "\n",
        "`Pandas`\n",
        "- for storing the data in the required format."
      ]
    },
    {
      "cell_type": "markdown",
      "metadata": {
        "id": "-n2XI9XnvovI"
      },
      "source": [
        "## Download Web Pages Using `Requests`\n",
        "\n",
        "We will use the `requests` library to fetch HTML code from the website."
      ]
    },
    {
      "cell_type": "code",
      "execution_count": 65,
      "metadata": {
        "id": "Lxg0EAv4vovI"
      },
      "outputs": [],
      "source": [
        "# Installing the library\n",
        "!pip install requests --upgrade --quiet"
      ]
    },
    {
      "cell_type": "code",
      "execution_count": 66,
      "metadata": {
        "id": "oFzlD2USvovJ"
      },
      "outputs": [],
      "source": [
        "# import the library\n",
        "import requests"
      ]
    },
    {
      "cell_type": "code",
      "execution_count": 67,
      "metadata": {
        "id": "hWdAHqugvovJ"
      },
      "outputs": [],
      "source": [
        "#variable for our website of interest\n",
        "talks_url = 'https://www.ted.com/talks?page=1&sort=popular&topics%5B%5D=medical+research'"
      ]
    },
    {
      "cell_type": "markdown",
      "metadata": {
        "id": "2kW3DpMZvovJ"
      },
      "source": [
        "We will use `requests.get` function to make a request from the webpage. A `response` object is generated once Requests gets a response back from the server."
      ]
    },
    {
      "cell_type": "code",
      "execution_count": 68,
      "metadata": {
        "id": "lW-zeBg2vovK"
      },
      "outputs": [],
      "source": [
        "response = requests.get(talks_url)"
      ]
    },
    {
      "cell_type": "markdown",
      "metadata": {
        "id": "fuohXdVtvovK"
      },
      "source": [
        "We can check if our request is succesful using the `response.status_code`, the values of which is set between 200 and 299."
      ]
    },
    {
      "cell_type": "code",
      "execution_count": 69,
      "metadata": {
        "id": "2Cx2Yuh0vovK",
        "outputId": "7aa2ad5c-a095-445d-d353-516e9ef7720a",
        "colab": {
          "base_uri": "https://localhost:8080/"
        }
      },
      "outputs": [
        {
          "output_type": "execute_result",
          "data": {
            "text/plain": [
              "200"
            ]
          },
          "metadata": {},
          "execution_count": 69
        }
      ],
      "source": [
        "response.status_code"
      ]
    },
    {
      "cell_type": "markdown",
      "metadata": {
        "id": "NpJTV_7xvovK"
      },
      "source": [
        "We can access the contents of the webpage using the `.text` property of the `response`."
      ]
    },
    {
      "cell_type": "code",
      "execution_count": 70,
      "metadata": {
        "id": "Lx828nuUvovK"
      },
      "outputs": [],
      "source": [
        "page_content = response.text"
      ]
    },
    {
      "cell_type": "markdown",
      "metadata": {
        "id": "wFkyoUIDvovL"
      },
      "source": [
        "Let's take a peak of the page_content."
      ]
    },
    {
      "cell_type": "code",
      "execution_count": 71,
      "metadata": {
        "id": "ck_IhWyLvovL",
        "outputId": "40e31e9d-d310-4394-b7b8-9a1600ccddd4",
        "colab": {
          "base_uri": "https://localhost:8080/"
        }
      },
      "outputs": [
        {
          "output_type": "execute_result",
          "data": {
            "text/plain": [
              "175586"
            ]
          },
          "metadata": {},
          "execution_count": 71
        }
      ],
      "source": [
        "len(page_content)"
      ]
    },
    {
      "cell_type": "markdown",
      "metadata": {
        "id": "PJ9KjlhBvovL"
      },
      "source": [
        "The page has 175,586 characters."
      ]
    },
    {
      "cell_type": "code",
      "execution_count": 72,
      "metadata": {
        "id": "CofgivPYvovL",
        "outputId": "9865fb09-a2cf-46da-caf2-4440f8c71e48",
        "colab": {
          "base_uri": "https://localhost:8080/",
          "height": 105
        }
      },
      "outputs": [
        {
          "output_type": "execute_result",
          "data": {
            "text/plain": [
              "'<!DOCTYPE html><html lang=\"en\"><head><meta charSet=\"utf-8\"/><meta property=\"og:url\" content=\"https://www.ted.com/talks\"/><link rel=\"canonical\" href=\"https://www.ted.com/talks\"/><meta name=\"title\" content=\"TED Talks\"/><meta name=\"description\" content=\"TED Talks are influential videos from expert speakers on education, business, science, tech and creativity, with subtitles in 100+ languages. Ideas free to stream and download.\"/><meta name=\"keywords\" content=\"TED, Talks, Themes, Speakers, Technology, Entertainment, Design\"/><meta property=\"og:image\" content=\"https://pi.tedcdn.com/r/pl.tedcdn.com/social/ted-logo-fb.png?v=wAff13s?\"/><meta property=\"og:title\" content=\"TED Talks\"/><meta property=\"og:description\" content=\"TED Talks are influential videos from expert speakers on education, business, science, tech and creativity, with subtitles in 100+ languages. Ideas free to stream and download.\"/><meta property=\"og:url\" content=\"https://www.ted.com/talks\"/><title>TED: Ideas change everything<'"
            ],
            "application/vnd.google.colaboratory.intrinsic+json": {
              "type": "string"
            }
          },
          "metadata": {},
          "execution_count": 72
        }
      ],
      "source": [
        "page_content[:1000]"
      ]
    },
    {
      "cell_type": "markdown",
      "metadata": {
        "id": "zr6oDqj0vovL"
      },
      "source": [
        "Above is the `source code` of the webpage written in HTML."
      ]
    },
    {
      "cell_type": "markdown",
      "metadata": {
        "id": "BfjvU7wmvovM"
      },
      "source": [
        "Let's save the contents to a file with the `.html` extension."
      ]
    },
    {
      "cell_type": "code",
      "execution_count": 73,
      "metadata": {
        "id": "DxjtdI2TvovM"
      },
      "outputs": [],
      "source": [
        "with open('talks.html' , 'w') as file:\n",
        "    file.write(page_content)"
      ]
    },
    {
      "cell_type": "markdown",
      "metadata": {
        "id": "A4OmgDIPvovN"
      },
      "source": [
        "## Beautiful Soup : Parse and Extract Information\n",
        "\n",
        "To use Beautiful Soup, we first need to install it"
      ]
    },
    {
      "cell_type": "code",
      "execution_count": 74,
      "metadata": {
        "id": "TwpLpS_wvovN"
      },
      "outputs": [],
      "source": [
        "#Install library\n",
        "!pip install beautifulsoup4 --upgrade --quiet"
      ]
    },
    {
      "cell_type": "code",
      "execution_count": 75,
      "metadata": {
        "id": "5nFSa6R-vovN"
      },
      "outputs": [],
      "source": [
        "#import library\n",
        "from bs4 import BeautifulSoup"
      ]
    },
    {
      "cell_type": "markdown",
      "metadata": {
        "id": "zvTtvac0vovN"
      },
      "source": [
        "Then, we create the Beautiful Soup object with the `page_content` as the input."
      ]
    },
    {
      "cell_type": "code",
      "execution_count": 76,
      "metadata": {
        "id": "OR6xexR-vovO"
      },
      "outputs": [],
      "source": [
        "talk_doc = BeautifulSoup(page_content, 'html.parser')"
      ]
    },
    {
      "cell_type": "code",
      "execution_count": 77,
      "metadata": {
        "id": "7YgNR5zkvovO",
        "outputId": "d7c25f73-ce65-4b6e-b745-408ad89b0ad8",
        "colab": {
          "base_uri": "https://localhost:8080/",
          "height": 187
        }
      },
      "outputs": [
        {
          "output_type": "execute_result",
          "data": {
            "text/plain": [
              "bs4.BeautifulSoup"
            ],
            "text/html": [
              "<div style=\"max-width:800px; border: 1px solid var(--colab-border-color);\"><style>\n",
              "      pre.function-repr-contents {\n",
              "        overflow-x: auto;\n",
              "        padding: 8px 12px;\n",
              "        max-height: 500px;\n",
              "      }\n",
              "\n",
              "      pre.function-repr-contents.function-repr-contents-collapsed {\n",
              "        cursor: pointer;\n",
              "        max-height: 100px;\n",
              "      }\n",
              "    </style>\n",
              "    <pre style=\"white-space: initial; background:\n",
              "         var(--colab-secondary-surface-color); padding: 8px 12px;\n",
              "         border-bottom: 1px solid var(--colab-border-color);\"><b>bs4.BeautifulSoup</b><br/>def __call__(*args, **kwargs)</pre><pre class=\"function-repr-contents function-repr-contents-collapsed\" style=\"\"><a class=\"filepath\" style=\"display:none\" href=\"#\">/usr/local/lib/python3.10/dist-packages/bs4/__init__.py</a>A data structure representing a parsed HTML or XML document.\n",
              "\n",
              "Most of the methods you&#x27;ll call on a BeautifulSoup object are inherited from\n",
              "PageElement or Tag.\n",
              "\n",
              "Internally, this class defines the basic interface called by the\n",
              "tree builders when converting an HTML/XML document into a data\n",
              "structure. The interface abstracts away the differences between\n",
              "parsers. To write a new tree builder, you&#x27;ll need to understand\n",
              "these methods as a whole.\n",
              "\n",
              "These methods will be called by the BeautifulSoup constructor:\n",
              "  * reset()\n",
              "  * feed(markup)\n",
              "\n",
              "The tree builder may call these methods from its feed() implementation:\n",
              "  * handle_starttag(name, attrs) # See note about return value\n",
              "  * handle_endtag(name)\n",
              "  * handle_data(data) # Appends to the current data node\n",
              "  * endData(containerClass) # Ends the current data node\n",
              "\n",
              "No matter how complicated the underlying parser is, you should be\n",
              "able to build a tree using &#x27;start tag&#x27; events, &#x27;end tag&#x27; events,\n",
              "&#x27;data&#x27; events, and &quot;done with data&quot; events.\n",
              "\n",
              "If you encounter an empty-element tag (aka a self-closing tag,\n",
              "like HTML&#x27;s &lt;br&gt; tag), call handle_starttag and then\n",
              "handle_endtag.</pre>\n",
              "      <script>\n",
              "      if (google.colab.kernel.accessAllowed && google.colab.files && google.colab.files.view) {\n",
              "        for (const element of document.querySelectorAll('.filepath')) {\n",
              "          element.style.display = 'block'\n",
              "          element.onclick = (event) => {\n",
              "            event.preventDefault();\n",
              "            event.stopPropagation();\n",
              "            google.colab.files.view(element.textContent, 76);\n",
              "          };\n",
              "        }\n",
              "      }\n",
              "      for (const element of document.querySelectorAll('.function-repr-contents')) {\n",
              "        element.onclick = (event) => {\n",
              "          event.preventDefault();\n",
              "          event.stopPropagation();\n",
              "          element.classList.toggle('function-repr-contents-collapsed');\n",
              "        };\n",
              "      }\n",
              "      </script>\n",
              "      </div>"
            ]
          },
          "metadata": {},
          "execution_count": 77
        }
      ],
      "source": [
        "type(talk_doc)"
      ]
    },
    {
      "cell_type": "markdown",
      "metadata": {
        "id": "6zaOiH-5vovO"
      },
      "source": [
        "We have used a lot of code to prepare our web document for scraping. Let us now create a function to download the page."
      ]
    },
    {
      "cell_type": "code",
      "execution_count": 78,
      "metadata": {
        "id": "uZZ7ncrnvovO"
      },
      "outputs": [],
      "source": [
        "import requests\n",
        "from bs4 import BeautifulSoup\n",
        "def get_page(talks_url):\n",
        "    #URL to scrape\n",
        "    talks_url = talks_url\n",
        "    # get HTML page using requests\n",
        "    response = requests.get(talks_url)\n",
        "    #confirm request is a success\n",
        "    if response.status_code != 200:\n",
        "        raise Exception('Failed to load page {}'.format(talks_url))\n",
        "    #create beautiful soup object\n",
        "    talk_doc = BeautifulSoup(response.text)\n",
        "    return talk_doc"
      ]
    },
    {
      "cell_type": "code",
      "execution_count": 79,
      "metadata": {
        "id": "WWfKS4RvvovP",
        "outputId": "57ce14c3-e754-4a3c-fed2-700e741b4ea6",
        "colab": {
          "base_uri": "https://localhost:8080/",
          "height": 187
        }
      },
      "outputs": [
        {
          "output_type": "execute_result",
          "data": {
            "text/plain": [
              "bs4.BeautifulSoup"
            ],
            "text/html": [
              "<div style=\"max-width:800px; border: 1px solid var(--colab-border-color);\"><style>\n",
              "      pre.function-repr-contents {\n",
              "        overflow-x: auto;\n",
              "        padding: 8px 12px;\n",
              "        max-height: 500px;\n",
              "      }\n",
              "\n",
              "      pre.function-repr-contents.function-repr-contents-collapsed {\n",
              "        cursor: pointer;\n",
              "        max-height: 100px;\n",
              "      }\n",
              "    </style>\n",
              "    <pre style=\"white-space: initial; background:\n",
              "         var(--colab-secondary-surface-color); padding: 8px 12px;\n",
              "         border-bottom: 1px solid var(--colab-border-color);\"><b>bs4.BeautifulSoup</b><br/>def __call__(*args, **kwargs)</pre><pre class=\"function-repr-contents function-repr-contents-collapsed\" style=\"\"><a class=\"filepath\" style=\"display:none\" href=\"#\">/usr/local/lib/python3.10/dist-packages/bs4/__init__.py</a>A data structure representing a parsed HTML or XML document.\n",
              "\n",
              "Most of the methods you&#x27;ll call on a BeautifulSoup object are inherited from\n",
              "PageElement or Tag.\n",
              "\n",
              "Internally, this class defines the basic interface called by the\n",
              "tree builders when converting an HTML/XML document into a data\n",
              "structure. The interface abstracts away the differences between\n",
              "parsers. To write a new tree builder, you&#x27;ll need to understand\n",
              "these methods as a whole.\n",
              "\n",
              "These methods will be called by the BeautifulSoup constructor:\n",
              "  * reset()\n",
              "  * feed(markup)\n",
              "\n",
              "The tree builder may call these methods from its feed() implementation:\n",
              "  * handle_starttag(name, attrs) # See note about return value\n",
              "  * handle_endtag(name)\n",
              "  * handle_data(data) # Appends to the current data node\n",
              "  * endData(containerClass) # Ends the current data node\n",
              "\n",
              "No matter how complicated the underlying parser is, you should be\n",
              "able to build a tree using &#x27;start tag&#x27; events, &#x27;end tag&#x27; events,\n",
              "&#x27;data&#x27; events, and &quot;done with data&quot; events.\n",
              "\n",
              "If you encounter an empty-element tag (aka a self-closing tag,\n",
              "like HTML&#x27;s &lt;br&gt; tag), call handle_starttag and then\n",
              "handle_endtag.</pre>\n",
              "      <script>\n",
              "      if (google.colab.kernel.accessAllowed && google.colab.files && google.colab.files.view) {\n",
              "        for (const element of document.querySelectorAll('.filepath')) {\n",
              "          element.style.display = 'block'\n",
              "          element.onclick = (event) => {\n",
              "            event.preventDefault();\n",
              "            event.stopPropagation();\n",
              "            google.colab.files.view(element.textContent, 76);\n",
              "          };\n",
              "        }\n",
              "      }\n",
              "      for (const element of document.querySelectorAll('.function-repr-contents')) {\n",
              "        element.onclick = (event) => {\n",
              "          event.preventDefault();\n",
              "          event.stopPropagation();\n",
              "          element.classList.toggle('function-repr-contents-collapsed');\n",
              "        };\n",
              "      }\n",
              "      </script>\n",
              "      </div>"
            ]
          },
          "metadata": {},
          "execution_count": 79
        }
      ],
      "source": [
        "type(talk_doc)"
      ]
    },
    {
      "cell_type": "markdown",
      "metadata": {
        "id": "JkY1OzXevovP"
      },
      "source": [
        "Data is stored in HTML tags. Beautiful soup has a lot of methods of searching through these tags, https://www.crummy.com/software/BeautifulSoup/bs4/doc/#searching-the-tree. The two common ones being `find()` and `find_all()`. For our project we will use the `find_all()` method to extract information from our webpage and return lists.\n",
        "\n",
        "Let's now create some functions using the `find_all()` method."
      ]
    },
    {
      "cell_type": "markdown",
      "metadata": {
        "id": "MPTA99YQvovP"
      },
      "source": [
        "We will first need to inspect our page. Below we have an image of the webpage at the top. The HTML code which gives the page structure is at the bottom.\n",
        "\n",
        "We can get the image by right clicking on our image of interest and selecting the option inspect element.\n",
        "\n",
        "![Title](https://i.ibb.co/j8Jz9y9/Annotation-2021-05-10-140602.png)"
      ]
    },
    {
      "cell_type": "markdown",
      "metadata": {
        "id": "18mPuH13vovP"
      },
      "source": [
        "The speakers names, talk urls, talk title, the number of views and the talks duration are among the information we need to extract from the webpage.\n",
        "If you are familiar with HTML, you will notice that some of the information that we need to extract from the web page are located within a h4 tag which has different classes."
      ]
    },
    {
      "cell_type": "markdown",
      "metadata": {
        "id": "KLwk75qqvovQ"
      },
      "source": [
        "We will now create functions to extact these information."
      ]
    },
    {
      "cell_type": "code",
      "execution_count": 80,
      "metadata": {
        "id": "8tH9p4UgvovQ"
      },
      "outputs": [],
      "source": [
        "#Talk titles\n",
        "def get_title(talk_doc):\n",
        "    # Initialize an empty list to store talk titles\n",
        "    title = []\n",
        "\n",
        "    # Define the class used for talk titles in <h4>\n",
        "    selection_class = ('f-w:700 h9 m5')\n",
        "\n",
        "    # Search for all <h4> tags with the specific class\n",
        "    title_tags = talk_doc.find_all('h4', {'class': selection_class})\n",
        "\n",
        "    # Loop through each <h4> tag that contain the talk title\n",
        "    for tag in title_tags:\n",
        "        # Append the stripped text (removing leading/trailing spaces) to the title list\n",
        "        title.append(tag.text.strip())\n",
        "\n",
        "    # Return the list of extracted titles\n",
        "    return title\n",
        "\n"
      ]
    },
    {
      "cell_type": "code",
      "execution_count": 81,
      "metadata": {
        "id": "yo-F-1fyvovQ",
        "outputId": "7c9bcdb5-c5d8-4eb8-e92f-0b9beb030bc6",
        "colab": {
          "base_uri": "https://localhost:8080/"
        }
      },
      "outputs": [
        {
          "output_type": "execute_result",
          "data": {
            "text/plain": [
              "[]"
            ]
          },
          "metadata": {},
          "execution_count": 81
        }
      ],
      "source": [
        "#Check if our function is working\n",
        "get_title(talk_doc)"
      ]
    },
    {
      "cell_type": "markdown",
      "metadata": {
        "id": "6Otsh-lmvovQ"
      },
      "source": [
        "Our function is working properly. Let's move to the next."
      ]
    },
    {
      "cell_type": "code",
      "execution_count": 82,
      "metadata": {
        "id": "63KEP-rvvovR"
      },
      "outputs": [],
      "source": [
        "#Speakers names\n",
        "def get_speakers(talks_doc):\n",
        "    speakers= []\n",
        "    speaker_class = 'h12 talk-link__speaker'\n",
        "    speaker_tag = talks_doc.find_all('h4',{'class' : speaker_class })\n",
        "    for tag in speaker_tag:\n",
        "        speakers.append(tag.text)\n",
        "\n",
        "    return speakers"
      ]
    },
    {
      "cell_type": "code",
      "execution_count": 83,
      "metadata": {
        "id": "ddNMK7CvvovR",
        "outputId": "d8ef15c0-4945-487f-facc-b0ac1061252f",
        "colab": {
          "base_uri": "https://localhost:8080/"
        }
      },
      "outputs": [
        {
          "output_type": "execute_result",
          "data": {
            "text/plain": [
              "[]"
            ]
          },
          "metadata": {},
          "execution_count": 83
        }
      ],
      "source": [
        "get_speakers(talk_doc)"
      ]
    },
    {
      "cell_type": "code",
      "execution_count": 84,
      "metadata": {
        "id": "KMy8bD4ovovR"
      },
      "outputs": [],
      "source": [
        "#Talk duration\n",
        "def get_time(talk_doc):\n",
        "    talk_time = []\n",
        "    duration_tag = 'thumb__duration'\n",
        "    talk_duration = talk_doc.find_all('span', {'class' : duration_tag })\n",
        "    for duration in talk_duration:\n",
        "        talk_time.append(duration.text)\n",
        "\n",
        "    return talk_time"
      ]
    },
    {
      "cell_type": "code",
      "execution_count": 85,
      "metadata": {
        "id": "VRBEy3RvvovR",
        "outputId": "0744df90-50a2-4de3-cf82-e3061aaaae4e",
        "colab": {
          "base_uri": "https://localhost:8080/"
        }
      },
      "outputs": [
        {
          "output_type": "execute_result",
          "data": {
            "text/plain": [
              "[]"
            ]
          },
          "metadata": {},
          "execution_count": 85
        }
      ],
      "source": [
        "get_time(talk_doc)"
      ]
    },
    {
      "cell_type": "code",
      "execution_count": 86,
      "metadata": {
        "id": "0yLT6N0hvovR"
      },
      "outputs": [],
      "source": [
        "#Talk view\n",
        "def get_views(talk_doc):\n",
        "    talk_views = []\n",
        "    views_class = 'meta__val'\n",
        "    views = talk_doc.find_all('span',{'class' : views_class})\n",
        "    for view in views:\n",
        "        talk_views.append(view.text.strip())\n",
        "\n",
        "    return talk_views"
      ]
    },
    {
      "cell_type": "code",
      "execution_count": 87,
      "metadata": {
        "id": "spze-vf3vovS",
        "outputId": "33cef14d-32c5-4716-8ef9-3dd1fe5977c9",
        "colab": {
          "base_uri": "https://localhost:8080/"
        }
      },
      "outputs": [
        {
          "output_type": "execute_result",
          "data": {
            "text/plain": [
              "[]"
            ]
          },
          "metadata": {},
          "execution_count": 87
        }
      ],
      "source": [
        "get_views(talk_doc)"
      ]
    },
    {
      "cell_type": "code",
      "execution_count": 88,
      "metadata": {
        "id": "qbiVl0aQvovU"
      },
      "outputs": [],
      "source": [
        "#Talks urls\n",
        "def get_urls(talk_doc):\n",
        "    urls = []\n",
        "    a_tags = talk_doc.find_all('a', {'class': 'ga-link', 'data-ga-context': 'talks'})\n",
        "    for a_tag in a_tags:\n",
        "        url = ('https://www.ted.com/' + a_tag['href'])\n",
        "        if url not in urls:\n",
        "            urls.append('https://www.ted.com/' + a_tag['href'])\n",
        "\n",
        "    return urls"
      ]
    },
    {
      "cell_type": "code",
      "execution_count": 89,
      "metadata": {
        "id": "DnawTaO-vovU",
        "outputId": "3581960f-1087-4d2f-fec8-dc80c690ef16",
        "colab": {
          "base_uri": "https://localhost:8080/"
        }
      },
      "outputs": [
        {
          "output_type": "execute_result",
          "data": {
            "text/plain": [
              "[]"
            ]
          },
          "metadata": {},
          "execution_count": 89
        }
      ],
      "source": [
        "get_urls(talk_doc)"
      ]
    },
    {
      "cell_type": "markdown",
      "metadata": {
        "id": "XOr4HewyvovU"
      },
      "source": [
        "## Create CSV Files Using Pandas"
      ]
    },
    {
      "cell_type": "code",
      "execution_count": 90,
      "metadata": {
        "id": "oPuAl0-hvovV"
      },
      "outputs": [],
      "source": [
        "#Installing Pandas library\n",
        "!pip install pandas --quiet"
      ]
    },
    {
      "cell_type": "code",
      "execution_count": 91,
      "metadata": {
        "id": "9IW6GFaxvovV"
      },
      "outputs": [],
      "source": [
        "#Import Pandas\n",
        "import pandas as pd"
      ]
    },
    {
      "cell_type": "code",
      "execution_count": 92,
      "metadata": {
        "id": "xHF9n2eZvovV"
      },
      "outputs": [],
      "source": [
        "#Create a dictionary\n",
        "talks_dict = {\n",
        "    'Title' : get_title(talk_doc),\n",
        "    'Speaker' : get_speakers(talk_doc),\n",
        "    'Duration' : get_time(talk_doc),\n",
        "    'Views' : get_views(talk_doc),\n",
        "    'URLs' : get_urls(talk_doc),}"
      ]
    },
    {
      "cell_type": "code",
      "execution_count": 93,
      "metadata": {
        "id": "ncxxTumdvovV",
        "outputId": "1fb72e4c-f22e-4cf4-c27b-dd305e1570d2",
        "colab": {
          "base_uri": "https://localhost:8080/"
        }
      },
      "outputs": [
        {
          "output_type": "execute_result",
          "data": {
            "text/plain": [
              "{'Title': [], 'Speaker': [], 'Duration': [], 'Views': [], 'URLs': []}"
            ]
          },
          "metadata": {},
          "execution_count": 93
        }
      ],
      "source": [
        "talks_dict"
      ]
    },
    {
      "cell_type": "code",
      "execution_count": 94,
      "metadata": {
        "id": "BuqBWIzwvovW"
      },
      "outputs": [],
      "source": [
        "#Create dataframe\n",
        "talks_pd = pd.DataFrame(talks_dict)"
      ]
    },
    {
      "cell_type": "code",
      "execution_count": 95,
      "metadata": {
        "id": "s9HtFT6SvovW",
        "outputId": "e595d61d-576f-4f30-b9c4-9c217e1eefef",
        "colab": {
          "base_uri": "https://localhost:8080/",
          "height": 89
        }
      },
      "outputs": [
        {
          "output_type": "execute_result",
          "data": {
            "text/plain": [
              "Empty DataFrame\n",
              "Columns: [Title, Speaker, Duration, Views, URLs]\n",
              "Index: []"
            ],
            "text/html": [
              "\n",
              "  <div id=\"df-c7b55ee1-4624-4144-b4a6-a546604701c5\" class=\"colab-df-container\">\n",
              "    <div>\n",
              "<style scoped>\n",
              "    .dataframe tbody tr th:only-of-type {\n",
              "        vertical-align: middle;\n",
              "    }\n",
              "\n",
              "    .dataframe tbody tr th {\n",
              "        vertical-align: top;\n",
              "    }\n",
              "\n",
              "    .dataframe thead th {\n",
              "        text-align: right;\n",
              "    }\n",
              "</style>\n",
              "<table border=\"1\" class=\"dataframe\">\n",
              "  <thead>\n",
              "    <tr style=\"text-align: right;\">\n",
              "      <th></th>\n",
              "      <th>Title</th>\n",
              "      <th>Speaker</th>\n",
              "      <th>Duration</th>\n",
              "      <th>Views</th>\n",
              "      <th>URLs</th>\n",
              "    </tr>\n",
              "  </thead>\n",
              "  <tbody>\n",
              "  </tbody>\n",
              "</table>\n",
              "</div>\n",
              "    <div class=\"colab-df-buttons\">\n",
              "\n",
              "  <div class=\"colab-df-container\">\n",
              "    <button class=\"colab-df-convert\" onclick=\"convertToInteractive('df-c7b55ee1-4624-4144-b4a6-a546604701c5')\"\n",
              "            title=\"Convert this dataframe to an interactive table.\"\n",
              "            style=\"display:none;\">\n",
              "\n",
              "  <svg xmlns=\"http://www.w3.org/2000/svg\" height=\"24px\" viewBox=\"0 -960 960 960\">\n",
              "    <path d=\"M120-120v-720h720v720H120Zm60-500h600v-160H180v160Zm220 220h160v-160H400v160Zm0 220h160v-160H400v160ZM180-400h160v-160H180v160Zm440 0h160v-160H620v160ZM180-180h160v-160H180v160Zm440 0h160v-160H620v160Z\"/>\n",
              "  </svg>\n",
              "    </button>\n",
              "\n",
              "  <style>\n",
              "    .colab-df-container {\n",
              "      display:flex;\n",
              "      gap: 12px;\n",
              "    }\n",
              "\n",
              "    .colab-df-convert {\n",
              "      background-color: #E8F0FE;\n",
              "      border: none;\n",
              "      border-radius: 50%;\n",
              "      cursor: pointer;\n",
              "      display: none;\n",
              "      fill: #1967D2;\n",
              "      height: 32px;\n",
              "      padding: 0 0 0 0;\n",
              "      width: 32px;\n",
              "    }\n",
              "\n",
              "    .colab-df-convert:hover {\n",
              "      background-color: #E2EBFA;\n",
              "      box-shadow: 0px 1px 2px rgba(60, 64, 67, 0.3), 0px 1px 3px 1px rgba(60, 64, 67, 0.15);\n",
              "      fill: #174EA6;\n",
              "    }\n",
              "\n",
              "    .colab-df-buttons div {\n",
              "      margin-bottom: 4px;\n",
              "    }\n",
              "\n",
              "    [theme=dark] .colab-df-convert {\n",
              "      background-color: #3B4455;\n",
              "      fill: #D2E3FC;\n",
              "    }\n",
              "\n",
              "    [theme=dark] .colab-df-convert:hover {\n",
              "      background-color: #434B5C;\n",
              "      box-shadow: 0px 1px 3px 1px rgba(0, 0, 0, 0.15);\n",
              "      filter: drop-shadow(0px 1px 2px rgba(0, 0, 0, 0.3));\n",
              "      fill: #FFFFFF;\n",
              "    }\n",
              "  </style>\n",
              "\n",
              "    <script>\n",
              "      const buttonEl =\n",
              "        document.querySelector('#df-c7b55ee1-4624-4144-b4a6-a546604701c5 button.colab-df-convert');\n",
              "      buttonEl.style.display =\n",
              "        google.colab.kernel.accessAllowed ? 'block' : 'none';\n",
              "\n",
              "      async function convertToInteractive(key) {\n",
              "        const element = document.querySelector('#df-c7b55ee1-4624-4144-b4a6-a546604701c5');\n",
              "        const dataTable =\n",
              "          await google.colab.kernel.invokeFunction('convertToInteractive',\n",
              "                                                    [key], {});\n",
              "        if (!dataTable) return;\n",
              "\n",
              "        const docLinkHtml = 'Like what you see? Visit the ' +\n",
              "          '<a target=\"_blank\" href=https://colab.research.google.com/notebooks/data_table.ipynb>data table notebook</a>'\n",
              "          + ' to learn more about interactive tables.';\n",
              "        element.innerHTML = '';\n",
              "        dataTable['output_type'] = 'display_data';\n",
              "        await google.colab.output.renderOutput(dataTable, element);\n",
              "        const docLink = document.createElement('div');\n",
              "        docLink.innerHTML = docLinkHtml;\n",
              "        element.appendChild(docLink);\n",
              "      }\n",
              "    </script>\n",
              "  </div>\n",
              "\n",
              "\n",
              "  <div id=\"id_44d0a40d-1ea7-48ee-b6bd-31cc57395247\">\n",
              "    <style>\n",
              "      .colab-df-generate {\n",
              "        background-color: #E8F0FE;\n",
              "        border: none;\n",
              "        border-radius: 50%;\n",
              "        cursor: pointer;\n",
              "        display: none;\n",
              "        fill: #1967D2;\n",
              "        height: 32px;\n",
              "        padding: 0 0 0 0;\n",
              "        width: 32px;\n",
              "      }\n",
              "\n",
              "      .colab-df-generate:hover {\n",
              "        background-color: #E2EBFA;\n",
              "        box-shadow: 0px 1px 2px rgba(60, 64, 67, 0.3), 0px 1px 3px 1px rgba(60, 64, 67, 0.15);\n",
              "        fill: #174EA6;\n",
              "      }\n",
              "\n",
              "      [theme=dark] .colab-df-generate {\n",
              "        background-color: #3B4455;\n",
              "        fill: #D2E3FC;\n",
              "      }\n",
              "\n",
              "      [theme=dark] .colab-df-generate:hover {\n",
              "        background-color: #434B5C;\n",
              "        box-shadow: 0px 1px 3px 1px rgba(0, 0, 0, 0.15);\n",
              "        filter: drop-shadow(0px 1px 2px rgba(0, 0, 0, 0.3));\n",
              "        fill: #FFFFFF;\n",
              "      }\n",
              "    </style>\n",
              "    <button class=\"colab-df-generate\" onclick=\"generateWithVariable('talks_pd')\"\n",
              "            title=\"Generate code using this dataframe.\"\n",
              "            style=\"display:none;\">\n",
              "\n",
              "  <svg xmlns=\"http://www.w3.org/2000/svg\" height=\"24px\"viewBox=\"0 0 24 24\"\n",
              "       width=\"24px\">\n",
              "    <path d=\"M7,19H8.4L18.45,9,17,7.55,7,17.6ZM5,21V16.75L18.45,3.32a2,2,0,0,1,2.83,0l1.4,1.43a1.91,1.91,0,0,1,.58,1.4,1.91,1.91,0,0,1-.58,1.4L9.25,21ZM18.45,9,17,7.55Zm-12,3A5.31,5.31,0,0,0,4.9,8.1,5.31,5.31,0,0,0,1,6.5,5.31,5.31,0,0,0,4.9,4.9,5.31,5.31,0,0,0,6.5,1,5.31,5.31,0,0,0,8.1,4.9,5.31,5.31,0,0,0,12,6.5,5.46,5.46,0,0,0,6.5,12Z\"/>\n",
              "  </svg>\n",
              "    </button>\n",
              "    <script>\n",
              "      (() => {\n",
              "      const buttonEl =\n",
              "        document.querySelector('#id_44d0a40d-1ea7-48ee-b6bd-31cc57395247 button.colab-df-generate');\n",
              "      buttonEl.style.display =\n",
              "        google.colab.kernel.accessAllowed ? 'block' : 'none';\n",
              "\n",
              "      buttonEl.onclick = () => {\n",
              "        google.colab.notebook.generateWithVariable('talks_pd');\n",
              "      }\n",
              "      })();\n",
              "    </script>\n",
              "  </div>\n",
              "\n",
              "    </div>\n",
              "  </div>\n"
            ],
            "application/vnd.google.colaboratory.intrinsic+json": {
              "type": "dataframe",
              "variable_name": "talks_pd",
              "summary": "{\n  \"name\": \"talks_pd\",\n  \"rows\": 0,\n  \"fields\": [\n    {\n      \"column\": \"Title\",\n      \"properties\": {\n        \"dtype\": \"number\",\n        \"std\": null,\n        \"min\": null,\n        \"max\": null,\n        \"num_unique_values\": 0,\n        \"samples\": [],\n        \"semantic_type\": \"\",\n        \"description\": \"\"\n      }\n    },\n    {\n      \"column\": \"Speaker\",\n      \"properties\": {\n        \"dtype\": \"number\",\n        \"std\": null,\n        \"min\": null,\n        \"max\": null,\n        \"num_unique_values\": 0,\n        \"samples\": [],\n        \"semantic_type\": \"\",\n        \"description\": \"\"\n      }\n    },\n    {\n      \"column\": \"Duration\",\n      \"properties\": {\n        \"dtype\": \"number\",\n        \"std\": null,\n        \"min\": null,\n        \"max\": null,\n        \"num_unique_values\": 0,\n        \"samples\": [],\n        \"semantic_type\": \"\",\n        \"description\": \"\"\n      }\n    },\n    {\n      \"column\": \"Views\",\n      \"properties\": {\n        \"dtype\": \"number\",\n        \"std\": null,\n        \"min\": null,\n        \"max\": null,\n        \"num_unique_values\": 0,\n        \"samples\": [],\n        \"semantic_type\": \"\",\n        \"description\": \"\"\n      }\n    },\n    {\n      \"column\": \"URLs\",\n      \"properties\": {\n        \"dtype\": \"number\",\n        \"std\": null,\n        \"min\": null,\n        \"max\": null,\n        \"num_unique_values\": 0,\n        \"samples\": [],\n        \"semantic_type\": \"\",\n        \"description\": \"\"\n      }\n    }\n  ]\n}"
            }
          },
          "metadata": {},
          "execution_count": 95
        }
      ],
      "source": [
        "talks_pd"
      ]
    },
    {
      "cell_type": "markdown",
      "metadata": {
        "id": "7UEQwEnrvovW"
      },
      "source": [
        "We have now extracted information from the first page of the webpage."
      ]
    },
    {
      "cell_type": "code",
      "execution_count": 96,
      "metadata": {
        "id": "QZBQcVR2vovW"
      },
      "outputs": [],
      "source": [
        "#Save in a csv file\n",
        "talks_pd.to_csv('talks.csv', index = None)"
      ]
    },
    {
      "cell_type": "code",
      "execution_count": 96,
      "metadata": {
        "id": "-GOYdzzsvovX"
      },
      "outputs": [],
      "source": []
    }
  ],
  "metadata": {
    "kernelspec": {
      "display_name": "Python 3",
      "language": "python",
      "name": "python3"
    },
    "language_info": {
      "codemirror_mode": {
        "name": "ipython",
        "version": 3
      },
      "file_extension": ".py",
      "mimetype": "text/x-python",
      "name": "python",
      "nbconvert_exporter": "python",
      "pygments_lexer": "ipython3",
      "version": "3.8.6"
    },
    "colab": {
      "provenance": []
    }
  },
  "nbformat": 4,
  "nbformat_minor": 0
}