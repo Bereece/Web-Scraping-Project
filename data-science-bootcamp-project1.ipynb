{
 "cells": [
  {
   "cell_type": "markdown",
   "metadata": {},
   "source": [
    "# Scraping medical research topics on TED Talks\n",
    "\n"
   ]
  },
  {
   "cell_type": "code",
   "execution_count": 1,
   "metadata": {},
   "outputs": [],
   "source": [
    "!pip install jovian --upgrade --quiet"
   ]
  },
  {
   "cell_type": "code",
   "execution_count": 2,
   "metadata": {},
   "outputs": [],
   "source": [
    "import jovian"
   ]
  },
  {
   "cell_type": "code",
   "execution_count": 3,
   "metadata": {},
   "outputs": [
    {
     "data": {
      "application/javascript": [
       "window.require && require([\"base/js/namespace\"],function(Jupyter){Jupyter.notebook.save_checkpoint()})"
      ],
      "text/plain": [

    },
    {
     "data": {
      "text/plain": [
       "'https://jovian.ai/dafrireece/data-science-bootcamp-project1'"
      ]
     },
     "execution_count": 3,
     "metadata": {},
     "output_type": "execute_result"
    }
   ],
 
  },
  {
   "cell_type": "markdown",
   "metadata": {},
   "source": [
    "## About Web Scraping\n",
    "\n",
    "\n",
    "One task of a data analyst is to analyze and report insights gleaned from data sets. Ever wondered how these data sets are collected? That's where knowledge of web scraping comes in handy.\n",
    "\n",
    "### What is web scraping?\n",
    "\n",
    "Web scraping is a technique used to extract content and data from websites.The data extracted is stored in a databases and retrieved later to perform analysis and communicate meaning.\n",
    "\n",
    "*“Data are just summaries of thousands of stories.”* **– By Chip & Dan Heath**\n",
    "\n",
    "Given that large amounts of data is extracted, web scraping automates tasks that might otherwise take humans far longer, or even be impossible to complete on a timely basis.\n",
    "\n",
    "How does web scraping work?\n",
    "\n",
    "Hypertext Markup Language(HTML) is used to give structure to websites.A mark-up language is universal meaning scrapers can easily pinpoint specific elements within them and extract content.\n",
    "\n",
    "A general process of web scraping follows these steps:\n",
    "\n",
    "- Identifying a site to scrape.\n",
    "- Use `Request` to fetch the HTML code.\n",
    "- Locate HTML elements using Beautiful Soup.\n",
    "- Use Pandas to create CSV  files.\n",
    "\n",
    "Let's see how to put these steps in practice."
   ]
  },
  {
   "cell_type": "markdown",
   "metadata": {},
   "source": [
    "## About TED Talks:\n",
    "\n",
    "TED Conferences LLC(Technology, Entertainment, Design) is an American media organization that posts talks online for free distribution under the slogan \"ideas worth spreading\".TED's early emphasis was on technology and design, consistent with its Silicon Valley origins. It has since broadened its perspective to include talks on many scientific, cultural, political, humanitarian and academic topics.\n",
    "\n",
    "In this project, we are going to scrape inspirational medical research topic presented on Ted Talks.\n",
    "\n",
    "\n",
    "![Title](https://i.ibb.co/jwRP2F1/photo-1567427018141-0584cfcbf1b8.jpg)\n",
    "\n",
    "\n",
    "Photo by <a href=\"https://unsplash.com/@f7photo?utm_source=unsplash&utm_medium=referral&utm_content=creditCopyText\">Michael Longmire</a> on <a href=\"https://unsplash.com/?utm_source=unsplash&utm_medium=referral&utm_content=creditCopyText\">Unsplash</a>\n",
    "  "
   ]
  },
  {
   "cell_type": "markdown",
   "metadata": {},
   "source": [
    "## Website of interest and objectives\n",
    "\n",
    "Our website of interest is https://www.ted.com/talks?page=1&sort=popular&topics%5B%5D=medical+research\n",
    "\n",
    "As earlier mentioned, this site contains talks. From the talks posted we want to extract these information from the talks.\n",
    "- Title of the talk\n",
    "- The speaker\n",
    "- Talk URL\n",
    "- Duration of the talk\n",
    "- Talk views\n",
    "\n",
    "This is the first step of our web scraping process."
   ]
  },
  {
   "cell_type": "markdown",
   "metadata": {},
   "source": [
    "## Web scraping toolbox\n",
    "\n",
    "Before we proceed to the next step, let's learn a little bit about the tools that we will use for web scraping. We will make use of three python libraries for these project.\n",
    "\n",
    "`Requests`\n",
    "- for making various types of HTTP requests.\n",
    "\n",
    "`Beautiful Soup` \n",
    "- for pulling data out of HTML and XML files.\n",
    "\n",
    "`Pandas` \n",
    "- for storing the data in the required format."
   ]
  },
  {
   "cell_type": "markdown",
   "metadata": {},
   "source": [
    "## Download web pages using `Requests`\n",
    "\n",
    "We will use the `request` library to fetch HTML code from the website. "
   ]
  },
  {
   "cell_type": "code",
   "execution_count": 4,
   "metadata": {},
   "outputs": [],
   "source": [
    "# Installing the library\n",
    "!pip install requests --upgrade --quiet"
   ]
  },
  {
   "cell_type": "code",
   "execution_count": 5,
   "metadata": {},
   "outputs": [],
   "source": [
    "# import the library\n",
    "import requests"
   ]
  },
  {
   "cell_type": "code",
   "execution_count": 6,
   "metadata": {},
   "outputs": [],
   "source": [
    "#variable for our website of interest\n",
    "talks_url = 'https://www.ted.com/talks?page=1&sort=popular&topics%5B%5D=medical+research'"
   ]
  },
  {
   "cell_type": "markdown",
   "metadata": {},
   "source": [
    "We will use `requests.get` function to make a request from the webpage. A `response` object is generated once Requests gets a response back from the server."
   ]
  },
  {
   "cell_type": "code",
   "execution_count": 7,
   "metadata": {},
   "outputs": [],
   "source": [
    "response = requests.get(talks_url)"
   ]
  },
  {
   "cell_type": "markdown",
   "metadata": {},
   "source": [
    "We can check if our request is succesful using the `response.status_code`, the values of which is set between 200 and 299. "
   ]
  },
  {
   "cell_type": "code",
   "execution_count": 8,
   "metadata": {},
   "outputs": [
    {
     "data": {
      "text/plain": [
       "200"
      ]
     },
     "execution_count": 8,
     "metadata": {},
     "output_type": "execute_result"
    }
   ],
   "source": [
    "response.status_code"
   ]
  },
  {
   "cell_type": "markdown",
   "metadata": {},
   "source": [
    "We can access the contents of the webpage using the `.text` property of the `response`."
   ]
  },
  {
   "cell_type": "code",
   "execution_count": 9,
   "metadata": {},
   "outputs": [],
   "source": [
    "page_content = response.text"
   ]
  },
  {
   "cell_type": "markdown",
   "metadata": {},
   "source": [
    "Let's take a peak of the page_content."
   ]
  },
  {
   "cell_type": "code",
   "execution_count": 10,
   "metadata": {},
   "outputs": [
    {
     "data": {
      "text/plain": [
       "92265"
      ]
     },
     "execution_count": 10,
     "metadata": {},
     "output_type": "execute_result"
    }
   ],
   "source": [
    "len(page_content)"
   ]
  },
  {
   "cell_type": "markdown",
   "metadata": {},
   "source": [
    "The page has 92,228 characters."
   ]
  },
  {
   "cell_type": "code",
   "execution_count": 11,
   "metadata": {},
   "outputs": [
    {
     "data": {
      "text/plain": [
       "'<!DOCTYPE html>\\n<!--[if lt IE 8]> <html class=\"no-js loggedout oldie ie7\" lang=\"en\"> <![endif]-->\\n<!--[if IE 8]> <html class=\"no-js loggedout oldie ie8\" lang=\"en\"> <![endif]-->\\n<!--[if gt IE 8]><!--><html class=\\'no-js loggedout\\' lang=\\'en\\'><!--<![endif]-->\\n<head>\\n<script>\\n  (function (H){\\n  H.className=H.className.replace(/\\\\bno-js\\\\b/,\\'js\\');\\n  if ((\\'; \\'+document.cookie).match(/; _ted_user_id=/)) H.className=H.className.replace(/\\\\bloggedout\\\\b/,\\'loggedin\\');\\n  })(document.documentElement)\\n</script><meta charset=\\'utf-8\\'>\\n<title>TED Talks</title>\\n<meta name=\"description\" content=\"TED Talks are influential videos from expert speakers on education, business, science, tech and creativity, with subtitles in 100+ languages. Ideas free to stream and download.\" />\\n<meta name=\"rss-feed\" content=\"https://www.ted.com/feeds/talks.rss\" />\\n<meta name=\"keywords\" content=\"TED, Talks, Themes, Speakers, Technology, Entertainment, Design\" />\\n<link rel=\"mask-icon\" href=\"https://pa.tedcdn.com/mask-icon.svg\" colo'"
      ]
     },
     "execution_count": 11,
     "metadata": {},
     "output_type": "execute_result"
    }
   ],
   "source": [
    "page_content[:1000]"
   ]
  },
  {
   "cell_type": "markdown",
   "metadata": {},
   "source": [
    "Above is the `source code` of the webpage written in HTML."
   ]
  },
  {
   "cell_type": "markdown",
   "metadata": {},
   "source": [
    "Let's save the contents to a file with the `.html` extension."
   ]
  },
  {
   "cell_type": "code",
   "execution_count": 12,
   "metadata": {},
   "outputs": [],
   "source": [
    "with open('talks.html' , 'w') as file:\n",
    "    file.write(page_content)"
   ]
  },
  {
   "cell_type": "code",
   "execution_count": 13,
   "metadata": {},
   "outputs": [],
   "source": [
    "!pip install jovian --upgrade --quiet"
   ]
  },
  {
   "cell_type": "code",
   "execution_count": 14,
   "metadata": {},
   "outputs": [],
   "source": [
    "import jovian"
   ]
  },
  {
   "cell_type": "code",
   "execution_count": 15,
   "metadata": {},
   "outputs": [
    {
     "data": {
      "application/javascript": [
       "window.require && require([\"base/js/namespace\"],function(Jupyter){Jupyter.notebook.save_checkpoint()})"
      ],
      "text/plain": [
       "<IPython.core.display.Javascript object>"
      ]
     },
     "metadata": {},
     "output_type": "display_data"
    },
    {
     "name": "stdout",
     "output_type": "stream",
     "text": [
      "[jovian] Attempting to save notebook..\u001b[0m\n",
      "[jovian] Updating notebook \"dafrireece/data-science-bootcamp-project1\" on https://jovian.ai\u001b[0m\n",
      "[jovian] Uploading notebook..\u001b[0m\n",
      "[jovian] Uploading additional files...\u001b[0m\n",
      "[jovian] Committed successfully! https://jovian.ai/dafrireece/data-science-bootcamp-project1\u001b[0m\n"
     ]
    },
    {
     "data": {
      "text/plain": [
       "'https://jovian.ai/dafrireece/data-science-bootcamp-project1'"
      ]
     },
     "execution_count": 15,
     "metadata": {},
     "output_type": "execute_result"
    }
   ],
   "source": [
    "jovian.commit(project='data-science-bootcamp-project-1', file = 'talks.html')"
   ]
  },
  {
   "cell_type": "markdown",
   "metadata": {},
   "source": [
    "## Beautiful Soup to parse and extract information\n",
    "\n",
    "To use Beautiful Soup, we first need to install it"
   ]
  },
  {
   "cell_type": "code",
   "execution_count": 16,
   "metadata": {},
   "outputs": [],
   "source": [
    "#Install library\n",
    "!pip install beautifulsoup4 --upgrade --quiet"
   ]
  },
  {
   "cell_type": "code",
   "execution_count": 17,
   "metadata": {},
   "outputs": [],
   "source": [
    "#import library\n",
    "from bs4 import BeautifulSoup"
   ]
  },
  {
   "cell_type": "markdown",
   "metadata": {},
   "source": [
    "Then, we create the Beautiful Soup object with the `page_content` as the input."
   ]
  },
  {
   "cell_type": "code",
   "execution_count": 18,
   "metadata": {},
   "outputs": [],
   "source": [
    "talk_doc = BeautifulSoup(page_content, 'html.parser')"
   ]
  },
  {
   "cell_type": "code",
   "execution_count": 19,
   "metadata": {},
   "outputs": [
    {
     "data": {
      "text/plain": [
       "bs4.BeautifulSoup"
      ]
     },
     "execution_count": 19,
     "metadata": {},
     "output_type": "execute_result"
    }
   ],
   "source": [
    "type(talk_doc)"
   ]
  },
  {
   "cell_type": "markdown",
   "metadata": {},
   "source": [
    "We have used a lot of code to prepare our web document for scraping. Let us now create a function to download the page."
   ]
  },
  {
   "cell_type": "code",
   "execution_count": 20,
   "metadata": {},
   "outputs": [],
   "source": [
    "import requests\n",
    "from bs4 import BeautifulSoup\n",
    "def get_page(talks_url):\n",
    "    #URL to scrape\n",
    "    talks_url = talks_url\n",
    "    # get HTML page using requests\n",
    "    response = requests.get(talks_url)\n",
    "    #confirm request is a success\n",
    "    if response.status_code != 200:\n",
    "        raise Exception('Failed to load page {}'.format(talks_url))\n",
    "    #create beautiful soup object    \n",
    "    talk_doc = BeautifulSoup(response.text)\n",
    "    return talk_doc"
   ]
  },
  {
   "cell_type": "code",
   "execution_count": 21,
   "metadata": {},
   "outputs": [
    {
     "data": {
      "text/plain": [
       "bs4.BeautifulSoup"
      ]
     },
     "execution_count": 21,
     "metadata": {},
     "output_type": "execute_result"
    }
   ],
   "source": [
    "type(talk_doc)"
   ]
  },
  {
   "cell_type": "markdown",
   "metadata": {},
   "source": [
    "Data is stored in HTML tags. Beautiful soup has a lot of methods of searching through these tags, https://www.crummy.com/software/BeautifulSoup/bs4/doc/#searching-the-tree. The two common ones being `find()` and `find_all()`. For our project we will use the `find_all()` method to extract information from our webpage and return lists.\n",
    "\n",
    "Let's now create some functions using the `find_all()` method."
   ]
  },
  {
   "cell_type": "markdown",
   "metadata": {},
   "source": [
    "We will first need to inspect our page. Below we have an image of the webpage at the top. The HTML code which gives the page structure is at the bottom. We were able to get the image by right clicking on our image of interest and selecting the option inspect element.\n",
    "\n",
    "![Title](https://i.ibb.co/j8Jz9y9/Annotation-2021-05-10-140602.png)"
   ]
  },
  {
   "cell_type": "markdown",
   "metadata": {},
   "source": [
    "The speakers names, talk urls, talk title, the number of views and the talks duration are among the information we need to extract from the webpage.\n",
    "If you are familiar with HTML, you will notice that some of the information that we need to extract from the web page are located within a h4 tag which has different classes."
   ]
  },
  {
   "cell_type": "markdown",
   "metadata": {},
   "source": [
    "We will now create functions to extact these information."
   ]
  },
  {
   "cell_type": "code",
   "execution_count": 22,
   "metadata": {},
   "outputs": [],
   "source": [
    "#Talk titles\n",
    "def get_title(talk_doc):\n",
    "    title = []\n",
    "    selection_class = ('f-w:700 h9 m5')\n",
    "    title_tags = talk_doc.find_all('h4',{'class' : selection_class})\n",
    "    for tag in title_tags:\n",
    "        title.append(tag.text.strip())\n",
    "    \n",
    "    return title"
   ]
  },
  {
   "cell_type": "code",
   "execution_count": 23,
   "metadata": {},
   "outputs": [
    {
     "data": {
      "text/plain": [
       "['Sleep is your superpower',\n",
       " \"You can grow new brain cells. Here's how\",\n",
       " 'How does anesthesia work?',\n",
       " 'Conception to birth — visualized',\n",
       " 'Is marijuana bad for your brain?',\n",
       " \"What you can do to prevent Alzheimer's\",\n",
       " \"One more reason to get a good night's sleep\",\n",
       " 'How reliable is your memory?',\n",
       " 'A promising test for pancreatic cancer ... from a teenager',\n",
       " 'What happens during a heart attack?',\n",
       " 'The surprisingly charming science of your gut',\n",
       " 'Is the obesity crisis hiding a bigger problem?',\n",
       " \"Autism — what we know (and what we don't know yet)\",\n",
       " 'What is bipolar disorder?',\n",
       " 'How your emotions change the shape of your heart',\n",
       " 'The future of psychedelic-assisted psychotherapy',\n",
       " 'What happens when you remove the hippocampus?',\n",
       " 'How CRISPR lets us edit our DNA',\n",
       " 'The brain may be able to repair itself — with help',\n",
       " 'Printing a human kidney',\n",
       " 'The power of the placebo effect',\n",
       " 'How menopause affects the brain',\n",
       " \"A doctor's case for medical marijuana\",\n",
       " \"The most groundbreaking scientist you've never heard of\",\n",
       " 'The genius of Marie Curie',\n",
       " 'What you should know about vaping and e-cigarettes',\n",
       " 'How does your body process medicine?',\n",
       " \"What doctors don't know about the drugs they prescribe\",\n",
       " 'How the pandemic will shape the near future',\n",
       " 'The next software revolution: programming biological cells',\n",
       " 'The surprising effects of pregnancy',\n",
       " \"Alzheimer's is not normal aging — and we can cure it\",\n",
       " \"How the gut microbes you're born with affect your lifelong health\",\n",
       " 'Why sleep matters now more than ever',\n",
       " 'How we could teach our bodies to heal faster',\n",
       " 'A new class of drug that could prevent depression and PTSD']"
      ]
     },
     "execution_count": 23,
     "metadata": {},
     "output_type": "execute_result"
    }
   ],
   "source": [
    "#Check if our function is working\n",
    "get_title(talk_doc)"
   ]
  },
  {
   "cell_type": "markdown",
   "metadata": {},
   "source": [
    "Our function is working properly. Let's move to the next."
   ]
  },
  {
   "cell_type": "code",
   "execution_count": 24,
   "metadata": {},
   "outputs": [],
   "source": [
    "#Speakers names\n",
    "def get_speakers(talks_doc):\n",
    "    speakers= []\n",
    "    speaker_class = 'h12 talk-link__speaker'\n",
    "    speaker_tag = talks_doc.find_all('h4',{'class' : speaker_class })\n",
    "    for tag in speaker_tag:\n",
    "        speakers.append(tag.text)\n",
    "        \n",
    "    return speakers       "
   ]
  },
  {
   "cell_type": "code",
   "execution_count": 25,
   "metadata": {},
   "outputs": [
    {
     "data": {
      "text/plain": [
       "['Matt Walker',\n",
       " 'Sandrine Thuret',\n",
       " 'Steven Zheng',\n",
       " 'Alexander Tsiaras',\n",
       " 'Anees Bahji',\n",
       " 'Lisa Genova',\n",
       " 'Jeff Iliff',\n",
       " 'Elizabeth Loftus',\n",
       " 'Jack Andraka',\n",
       " 'Krishna Sudhir',\n",
       " 'Giulia Enders',\n",
       " 'Peter Attia',\n",
       " 'Wendy Chung',\n",
       " 'Helen M. Farrell',\n",
       " 'Sandeep Jauhar',\n",
       " 'Rick Doblin',\n",
       " 'Sam Kean',\n",
       " 'Jennifer Doudna',\n",
       " 'Jocelyne Bloch',\n",
       " 'Anthony Atala',\n",
       " 'Emma Bryce',\n",
       " 'Lisa Mosconi',\n",
       " 'David Casarett',\n",
       " 'Addison Anderson',\n",
       " 'Shohini Ghose',\n",
       " 'Suchitra Krishnan-Sarin',\n",
       " 'Céline Valéry',\n",
       " 'Ben Goldacre',\n",
       " 'Bill Gates',\n",
       " 'Sara-Jane Dunn',\n",
       " 'TED-Ed',\n",
       " 'Samuel Cohen',\n",
       " 'Henna-Maria Uusitupa',\n",
       " 'Matt Walker',\n",
       " 'Kaitlyn Sadtler',\n",
       " 'Rebecca Brachman']"
      ]
     },
     "execution_count": 25,
     "metadata": {},
     "output_type": "execute_result"
    }
   ],
   "source": [
    "get_speakers(talk_doc)"
   ]
  },
  {
   "cell_type": "code",
   "execution_count": 26,
   "metadata": {},
   "outputs": [],
   "source": [
    "#Talk duration\n",
    "def get_time(talk_doc):\n",
    "    talk_time = []\n",
    "    duration_tag = 'thumb__duration'\n",
    "    talk_duration = talk_doc.find_all('span', {'class' : duration_tag })\n",
    "    for duration in talk_duration:\n",
    "        talk_time.append(duration.text)\n",
    "        \n",
    "    return talk_time   "
   ]
  },
  {
   "cell_type": "code",
   "execution_count": 27,
   "metadata": {},
   "outputs": [
    {
     "data": {
      "text/plain": [
       "['19:18',\n",
       " '11:04',\n",
       " ' 4:41',\n",
       " ' 9:37',\n",
       " ' 6:21',\n",
       " '13:56',\n",
       " '11:41',\n",
       " '17:36',\n",
       " '10:49',\n",
       " ' 4:39',\n",
       " '14:03',\n",
       " '15:58',\n",
       " '15:35',\n",
       " ' 5:52',\n",
       " '16:02',\n",
       " '16:32',\n",
       " ' 5:10',\n",
       " '15:53',\n",
       " '11:34',\n",
       " '17:24',\n",
       " ' 4:22',\n",
       " '13:04',\n",
       " '15:07',\n",
       " ' 4:18',\n",
       " ' 4:43',\n",
       " '14:29',\n",
       " ' 3:58',\n",
       " '13:29',\n",
       " '43:07',\n",
       " '14:47',\n",
       " ' 5:25',\n",
       " ' 7:53',\n",
       " '10:40',\n",
       " '1h  0m',\n",
       " ' 4:57',\n",
       " ' 5:10']"
      ]
     },
     "execution_count": 27,
     "metadata": {},
     "output_type": "execute_result"
    }
   ],
   "source": [
    "get_time(talk_doc)"
   ]
  },
  {
   "cell_type": "code",
   "execution_count": 28,
   "metadata": {},
   "outputs": [],
   "source": [
    "#Talk view\n",
    "def get_views(talk_doc):\n",
    "    talk_views = []\n",
    "    views_class = 'meta__val'\n",
    "    views = talk_doc.find_all('span',{'class' : views_class})\n",
    "    for view in views:\n",
    "        talk_views.append(view.text.strip())\n",
    "        \n",
    "    return talk_views       "
   ]
  },
  {
   "cell_type": "code",
   "execution_count": 29,
   "metadata": {},
   "outputs": [
    {
     "data": {
      "text/plain": [
       "['13M',\n",
       " '9.6M',\n",
       " '9.1M',\n",
       " '8.1M',\n",
       " '5.8M',\n",
       " '5.3M',\n",
       " '5.3M',\n",
       " '5.3M',\n",
       " '4.9M',\n",
       " '4.8M',\n",
       " '4.7M',\n",
       " '4.4M',\n",
       " '4.1M',\n",
       " '4.1M',\n",
       " '4M',\n",
       " '3.6M',\n",
       " '3.5M',\n",
       " '3.4M',\n",
       " '3.3M',\n",
       " '3.1M',\n",
       " '3M',\n",
       " '2.9M',\n",
       " '2.9M',\n",
       " '2.7M',\n",
       " '2.7M',\n",
       " '2.6M',\n",
       " '2.6M',\n",
       " '2.6M',\n",
       " '2.5M',\n",
       " '2.5M',\n",
       " '2.5M',\n",
       " '2.4M',\n",
       " '2.4M',\n",
       " '2.4M',\n",
       " '2.4M',\n",
       " '2.3M']"
      ]
     },
     "execution_count": 29,
     "metadata": {},
     "output_type": "execute_result"
    }
   ],
   "source": [
    "get_views(talk_doc)"
   ]
  },
  {
   "cell_type": "code",
   "execution_count": 30,
   "metadata": {},
   "outputs": [],
   "source": [
    "#Talks urls\n",
    "def get_urls(talk_doc):\n",
    "    urls = []\n",
    "    a_tags = talk_doc.find_all('a', {'class': 'ga-link', 'data-ga-context': 'talks'})\n",
    "    for a_tag in a_tags:\n",
    "        url = ('https://www.ted.com/' + a_tag['href'])\n",
    "        if url not in urls:\n",
    "            urls.append('https://www.ted.com/' + a_tag['href'])\n",
    "    \n",
    "    return urls"
   ]
  },
  {
   "cell_type": "code",
   "execution_count": 31,
   "metadata": {},
   "outputs": [
    {
     "data": {
      "text/plain": [
       "['https://www.ted.com//talks/matt_walker_sleep_is_your_superpower',\n",
       " 'https://www.ted.com//talks/sandrine_thuret_you_can_grow_new_brain_cells_here_s_how',\n",
       " 'https://www.ted.com//talks/steven_zheng_how_does_anesthesia_work',\n",
       " 'https://www.ted.com//talks/alexander_tsiaras_conception_to_birth_visualized',\n",
       " 'https://www.ted.com//talks/anees_bahji_is_marijuana_bad_for_your_brain',\n",
       " 'https://www.ted.com//talks/lisa_genova_what_you_can_do_to_prevent_alzheimer_s',\n",
       " 'https://www.ted.com//talks/jeff_iliff_one_more_reason_to_get_a_good_night_s_sleep',\n",
       " 'https://www.ted.com//talks/elizabeth_loftus_how_reliable_is_your_memory',\n",
       " 'https://www.ted.com//talks/jack_andraka_a_promising_test_for_pancreatic_cancer_from_a_teenager',\n",
       " 'https://www.ted.com//talks/krishna_sudhir_what_happens_during_a_heart_attack',\n",
       " 'https://www.ted.com//talks/giulia_enders_the_surprisingly_charming_science_of_your_gut',\n",
       " 'https://www.ted.com//talks/peter_attia_is_the_obesity_crisis_hiding_a_bigger_problem',\n",
       " 'https://www.ted.com//talks/wendy_chung_autism_what_we_know_and_what_we_don_t_know_yet',\n",
       " 'https://www.ted.com//talks/helen_m_farrell_what_is_bipolar_disorder',\n",
       " 'https://www.ted.com//talks/sandeep_jauhar_how_your_emotions_change_the_shape_of_your_heart',\n",
       " 'https://www.ted.com//talks/rick_doblin_the_future_of_psychedelic_assisted_psychotherapy',\n",
       " 'https://www.ted.com//talks/sam_kean_what_happens_when_you_remove_the_hippocampus',\n",
       " 'https://www.ted.com//talks/jennifer_doudna_how_crispr_lets_us_edit_our_dna',\n",
       " 'https://www.ted.com//talks/jocelyne_bloch_the_brain_may_be_able_to_repair_itself_with_help',\n",
       " 'https://www.ted.com//talks/anthony_atala_printing_a_human_kidney',\n",
       " 'https://www.ted.com//talks/emma_bryce_the_power_of_the_placebo_effect',\n",
       " 'https://www.ted.com//talks/lisa_mosconi_how_menopause_affects_the_brain',\n",
       " 'https://www.ted.com//talks/david_casarett_a_doctor_s_case_for_medical_marijuana',\n",
       " 'https://www.ted.com//talks/addison_anderson_the_most_groundbreaking_scientist_you_ve_never_heard_of',\n",
       " 'https://www.ted.com//talks/shohini_ghose_the_genius_of_marie_curie',\n",
       " 'https://www.ted.com//talks/suchitra_krishnan_sarin_what_you_should_know_about_vaping_and_e_cigarettes',\n",
       " 'https://www.ted.com//talks/celine_valery_how_does_your_body_process_medicine',\n",
       " 'https://www.ted.com//talks/ben_goldacre_what_doctors_don_t_know_about_the_drugs_they_prescribe',\n",
       " 'https://www.ted.com//talks/bill_gates_how_the_pandemic_will_shape_the_near_future',\n",
       " 'https://www.ted.com//talks/sara_jane_dunn_the_next_software_revolution_programming_biological_cells',\n",
       " 'https://www.ted.com//talks/ted_ed_the_surprising_effects_of_pregnancy',\n",
       " 'https://www.ted.com//talks/samuel_cohen_alzheimer_s_is_not_normal_aging_and_we_can_cure_it',\n",
       " 'https://www.ted.com//talks/henna_maria_uusitupa_how_the_gut_microbes_you_re_born_with_affect_your_lifelong_health',\n",
       " 'https://www.ted.com//talks/matt_walker_why_sleep_matters_now_more_than_ever',\n",
       " 'https://www.ted.com//talks/kaitlyn_sadtler_how_we_could_teach_our_bodies_to_heal_faster',\n",
       " 'https://www.ted.com//talks/rebecca_brachman_a_new_class_of_drug_that_could_prevent_depression_and_ptsd']"
      ]
     },
     "execution_count": 31,
     "metadata": {},
     "output_type": "execute_result"
    }
   ],
   "source": [
    "get_urls(talk_doc)"
   ]
  },
  {
   "cell_type": "markdown",
   "metadata": {},
   "source": [
    "## Create CSV files using Pandas"
   ]
  },
  {
   "cell_type": "code",
   "execution_count": 32,
   "metadata": {},
   "outputs": [],
   "source": [
    "#Installing Pandas library\n",
    "!pip install pandas --quiet"
   ]
  },
  {
   "cell_type": "code",
   "execution_count": 33,
   "metadata": {},
   "outputs": [],
   "source": [
    "#Import Pandas\n",
    "import pandas as pd"
   ]
  },
  {
   "cell_type": "code",
   "execution_count": 34,
   "metadata": {},
   "outputs": [],
   "source": [
    "#Create a dictionary\n",
    "talks_dict = {\n",
    "    'Title' : get_title(talk_doc),\n",
    "    'Speaker' : get_speakers(talk_doc),\n",
    "    'Duration' : get_time(talk_doc),\n",
    "    'Views' : get_views(talk_doc),\n",
    "    'URLs' : get_urls(talk_doc),}"
   ]
  },
  {
   "cell_type": "code",
   "execution_count": 35,
   "metadata": {},
   "outputs": [
    {
     "data": {
      "text/plain": [
       "{'Title': ['Sleep is your superpower',\n",
       "  \"You can grow new brain cells. Here's how\",\n",
       "  'How does anesthesia work?',\n",
       "  'Conception to birth — visualized',\n",
       "  'Is marijuana bad for your brain?',\n",
       "  \"What you can do to prevent Alzheimer's\",\n",
       "  \"One more reason to get a good night's sleep\",\n",
       "  'How reliable is your memory?',\n",
       "  'A promising test for pancreatic cancer ... from a teenager',\n",
       "  'What happens during a heart attack?',\n",
       "  'The surprisingly charming science of your gut',\n",
       "  'Is the obesity crisis hiding a bigger problem?',\n",
       "  \"Autism — what we know (and what we don't know yet)\",\n",
       "  'What is bipolar disorder?',\n",
       "  'How your emotions change the shape of your heart',\n",
       "  'The future of psychedelic-assisted psychotherapy',\n",
       "  'What happens when you remove the hippocampus?',\n",
       "  'How CRISPR lets us edit our DNA',\n",
       "  'The brain may be able to repair itself — with help',\n",
       "  'Printing a human kidney',\n",
       "  'The power of the placebo effect',\n",
       "  'How menopause affects the brain',\n",
       "  \"A doctor's case for medical marijuana\",\n",
       "  \"The most groundbreaking scientist you've never heard of\",\n",
       "  'The genius of Marie Curie',\n",
       "  'What you should know about vaping and e-cigarettes',\n",
       "  'How does your body process medicine?',\n",
       "  \"What doctors don't know about the drugs they prescribe\",\n",
       "  'How the pandemic will shape the near future',\n",
       "  'The next software revolution: programming biological cells',\n",
       "  'The surprising effects of pregnancy',\n",
       "  \"Alzheimer's is not normal aging — and we can cure it\",\n",
       "  \"How the gut microbes you're born with affect your lifelong health\",\n",
       "  'Why sleep matters now more than ever',\n",
       "  'How we could teach our bodies to heal faster',\n",
       "  'A new class of drug that could prevent depression and PTSD'],\n",
       " 'Speaker': ['Matt Walker',\n",
       "  'Sandrine Thuret',\n",
       "  'Steven Zheng',\n",
       "  'Alexander Tsiaras',\n",
       "  'Anees Bahji',\n",
       "  'Lisa Genova',\n",
       "  'Jeff Iliff',\n",
       "  'Elizabeth Loftus',\n",
       "  'Jack Andraka',\n",
       "  'Krishna Sudhir',\n",
       "  'Giulia Enders',\n",
       "  'Peter Attia',\n",
       "  'Wendy Chung',\n",
       "  'Helen M. Farrell',\n",
       "  'Sandeep Jauhar',\n",
       "  'Rick Doblin',\n",
       "  'Sam Kean',\n",
       "  'Jennifer Doudna',\n",
       "  'Jocelyne Bloch',\n",
       "  'Anthony Atala',\n",
       "  'Emma Bryce',\n",
       "  'Lisa Mosconi',\n",
       "  'David Casarett',\n",
       "  'Addison Anderson',\n",
       "  'Shohini Ghose',\n",
       "  'Suchitra Krishnan-Sarin',\n",
       "  'Céline Valéry',\n",
       "  'Ben Goldacre',\n",
       "  'Bill Gates',\n",
       "  'Sara-Jane Dunn',\n",
       "  'TED-Ed',\n",
       "  'Samuel Cohen',\n",
       "  'Henna-Maria Uusitupa',\n",
       "  'Matt Walker',\n",
       "  'Kaitlyn Sadtler',\n",
       "  'Rebecca Brachman'],\n",
       " 'Duration': ['19:18',\n",
       "  '11:04',\n",
       "  ' 4:41',\n",
       "  ' 9:37',\n",
       "  ' 6:21',\n",
       "  '13:56',\n",
       "  '11:41',\n",
       "  '17:36',\n",
       "  '10:49',\n",
       "  ' 4:39',\n",
       "  '14:03',\n",
       "  '15:58',\n",
       "  '15:35',\n",
       "  ' 5:52',\n",
       "  '16:02',\n",
       "  '16:32',\n",
       "  ' 5:10',\n",
       "  '15:53',\n",
       "  '11:34',\n",
       "  '17:24',\n",
       "  ' 4:22',\n",
       "  '13:04',\n",
       "  '15:07',\n",
       "  ' 4:18',\n",
       "  ' 4:43',\n",
       "  '14:29',\n",
       "  ' 3:58',\n",
       "  '13:29',\n",
       "  '43:07',\n",
       "  '14:47',\n",
       "  ' 5:25',\n",
       "  ' 7:53',\n",
       "  '10:40',\n",
       "  '1h  0m',\n",
       "  ' 4:57',\n",
       "  ' 5:10'],\n",
       " 'Views': ['13M',\n",
       "  '9.6M',\n",
       "  '9.1M',\n",
       "  '8.1M',\n",
       "  '5.8M',\n",
       "  '5.3M',\n",
       "  '5.3M',\n",
       "  '5.3M',\n",
       "  '4.9M',\n",
       "  '4.8M',\n",
       "  '4.7M',\n",
       "  '4.4M',\n",
       "  '4.1M',\n",
       "  '4.1M',\n",
       "  '4M',\n",
       "  '3.6M',\n",
       "  '3.5M',\n",
       "  '3.4M',\n",
       "  '3.3M',\n",
       "  '3.1M',\n",
       "  '3M',\n",
       "  '2.9M',\n",
       "  '2.9M',\n",
       "  '2.7M',\n",
       "  '2.7M',\n",
       "  '2.6M',\n",
       "  '2.6M',\n",
       "  '2.6M',\n",
       "  '2.5M',\n",
       "  '2.5M',\n",
       "  '2.5M',\n",
       "  '2.4M',\n",
       "  '2.4M',\n",
       "  '2.4M',\n",
       "  '2.4M',\n",
       "  '2.3M'],\n",
       " 'URLs': ['https://www.ted.com//talks/matt_walker_sleep_is_your_superpower',\n",
       "  'https://www.ted.com//talks/sandrine_thuret_you_can_grow_new_brain_cells_here_s_how',\n",
       "  'https://www.ted.com//talks/steven_zheng_how_does_anesthesia_work',\n",
       "  'https://www.ted.com//talks/alexander_tsiaras_conception_to_birth_visualized',\n",
       "  'https://www.ted.com//talks/anees_bahji_is_marijuana_bad_for_your_brain',\n",
       "  'https://www.ted.com//talks/lisa_genova_what_you_can_do_to_prevent_alzheimer_s',\n",
       "  'https://www.ted.com//talks/jeff_iliff_one_more_reason_to_get_a_good_night_s_sleep',\n",
       "  'https://www.ted.com//talks/elizabeth_loftus_how_reliable_is_your_memory',\n",
       "  'https://www.ted.com//talks/jack_andraka_a_promising_test_for_pancreatic_cancer_from_a_teenager',\n",
       "  'https://www.ted.com//talks/krishna_sudhir_what_happens_during_a_heart_attack',\n",
       "  'https://www.ted.com//talks/giulia_enders_the_surprisingly_charming_science_of_your_gut',\n",
       "  'https://www.ted.com//talks/peter_attia_is_the_obesity_crisis_hiding_a_bigger_problem',\n",
       "  'https://www.ted.com//talks/wendy_chung_autism_what_we_know_and_what_we_don_t_know_yet',\n",
       "  'https://www.ted.com//talks/helen_m_farrell_what_is_bipolar_disorder',\n",
       "  'https://www.ted.com//talks/sandeep_jauhar_how_your_emotions_change_the_shape_of_your_heart',\n",
       "  'https://www.ted.com//talks/rick_doblin_the_future_of_psychedelic_assisted_psychotherapy',\n",
       "  'https://www.ted.com//talks/sam_kean_what_happens_when_you_remove_the_hippocampus',\n",
       "  'https://www.ted.com//talks/jennifer_doudna_how_crispr_lets_us_edit_our_dna',\n",
       "  'https://www.ted.com//talks/jocelyne_bloch_the_brain_may_be_able_to_repair_itself_with_help',\n",
       "  'https://www.ted.com//talks/anthony_atala_printing_a_human_kidney',\n",
       "  'https://www.ted.com//talks/emma_bryce_the_power_of_the_placebo_effect',\n",
       "  'https://www.ted.com//talks/lisa_mosconi_how_menopause_affects_the_brain',\n",
       "  'https://www.ted.com//talks/david_casarett_a_doctor_s_case_for_medical_marijuana',\n",
       "  'https://www.ted.com//talks/addison_anderson_the_most_groundbreaking_scientist_you_ve_never_heard_of',\n",
       "  'https://www.ted.com//talks/shohini_ghose_the_genius_of_marie_curie',\n",
       "  'https://www.ted.com//talks/suchitra_krishnan_sarin_what_you_should_know_about_vaping_and_e_cigarettes',\n",
       "  'https://www.ted.com//talks/celine_valery_how_does_your_body_process_medicine',\n",
       "  'https://www.ted.com//talks/ben_goldacre_what_doctors_don_t_know_about_the_drugs_they_prescribe',\n",
       "  'https://www.ted.com//talks/bill_gates_how_the_pandemic_will_shape_the_near_future',\n",
       "  'https://www.ted.com//talks/sara_jane_dunn_the_next_software_revolution_programming_biological_cells',\n",
       "  'https://www.ted.com//talks/ted_ed_the_surprising_effects_of_pregnancy',\n",
       "  'https://www.ted.com//talks/samuel_cohen_alzheimer_s_is_not_normal_aging_and_we_can_cure_it',\n",
       "  'https://www.ted.com//talks/henna_maria_uusitupa_how_the_gut_microbes_you_re_born_with_affect_your_lifelong_health',\n",
       "  'https://www.ted.com//talks/matt_walker_why_sleep_matters_now_more_than_ever',\n",
       "  'https://www.ted.com//talks/kaitlyn_sadtler_how_we_could_teach_our_bodies_to_heal_faster',\n",
       "  'https://www.ted.com//talks/rebecca_brachman_a_new_class_of_drug_that_could_prevent_depression_and_ptsd']}"
      ]
     },
     "execution_count": 35,
     "metadata": {},
     "output_type": "execute_result"
    }
   ],
   "source": [
    "talks_dict"
   ]
  },
  {
   "cell_type": "code",
   "execution_count": 36,
   "metadata": {},
   "outputs": [],
   "source": [
    "#Create dataframe\n",
    "talks_pd = pd.DataFrame(talks_dict)"
   ]
  },
  {
   "cell_type": "code",
   "execution_count": 37,
   "metadata": {},
   "outputs": [
    {
     "data": {
      "text/html": [
       "<div>\n",
       "<style scoped>\n",
       "    .dataframe tbody tr th:only-of-type {\n",
       "        vertical-align: middle;\n",
       "    }\n",
       "\n",
       "    .dataframe tbody tr th {\n",
       "        vertical-align: top;\n",
       "    }\n",
       "\n",
       "    .dataframe thead th {\n",
       "        text-align: right;\n",
       "    }\n",
       "</style>\n",
       "<table border=\"1\" class=\"dataframe\">\n",
       "  <thead>\n",
       "    <tr style=\"text-align: right;\">\n",
       "      <th></th>\n",
       "      <th>Title</th>\n",
       "      <th>Speaker</th>\n",
       "      <th>Duration</th>\n",
       "      <th>Views</th>\n",
       "      <th>URLs</th>\n",
       "    </tr>\n",
       "  </thead>\n",
       "  <tbody>\n",
       "    <tr>\n",
       "      <th>0</th>\n",
       "      <td>Sleep is your superpower</td>\n",
       "      <td>Matt Walker</td>\n",
       "      <td>19:18</td>\n",
       "      <td>13M</td>\n",
       "      <td>https://www.ted.com//talks/matt_walker_sleep_i...</td>\n",
       "    </tr>\n",
       "    <tr>\n",
       "      <th>1</th>\n",
       "      <td>You can grow new brain cells. Here's how</td>\n",
       "      <td>Sandrine Thuret</td>\n",
       "      <td>11:04</td>\n",
       "      <td>9.6M</td>\n",
       "      <td>https://www.ted.com//talks/sandrine_thuret_you...</td>\n",
       "    </tr>\n",
       "    <tr>\n",
       "      <th>2</th>\n",
       "      <td>How does anesthesia work?</td>\n",
       "      <td>Steven Zheng</td>\n",
       "      <td>4:41</td>\n",
       "      <td>9.1M</td>\n",
       "      <td>https://www.ted.com//talks/steven_zheng_how_do...</td>\n",
       "    </tr>\n",
       "    <tr>\n",
       "      <th>3</th>\n",
       "      <td>Conception to birth — visualized</td>\n",
       "      <td>Alexander Tsiaras</td>\n",
       "      <td>9:37</td>\n",
       "      <td>8.1M</td>\n",
       "      <td>https://www.ted.com//talks/alexander_tsiaras_c...</td>\n",
       "    </tr>\n",
       "    <tr>\n",
       "      <th>4</th>\n",
       "      <td>Is marijuana bad for your brain?</td>\n",
       "      <td>Anees Bahji</td>\n",
       "      <td>6:21</td>\n",
       "      <td>5.8M</td>\n",
       "      <td>https://www.ted.com//talks/anees_bahji_is_mari...</td>\n",
       "    </tr>\n",
       "    <tr>\n",
       "      <th>5</th>\n",
       "      <td>What you can do to prevent Alzheimer's</td>\n",
       "      <td>Lisa Genova</td>\n",
       "      <td>13:56</td>\n",
       "      <td>5.3M</td>\n",
       "      <td>https://www.ted.com//talks/lisa_genova_what_yo...</td>\n",
       "    </tr>\n",
       "    <tr>\n",
       "      <th>6</th>\n",
       "      <td>One more reason to get a good night's sleep</td>\n",
       "      <td>Jeff Iliff</td>\n",
       "      <td>11:41</td>\n",
       "      <td>5.3M</td>\n",
       "      <td>https://www.ted.com//talks/jeff_iliff_one_more...</td>\n",
       "    </tr>\n",
       "    <tr>\n",
       "      <th>7</th>\n",
       "      <td>How reliable is your memory?</td>\n",
       "      <td>Elizabeth Loftus</td>\n",
       "      <td>17:36</td>\n",
       "      <td>5.3M</td>\n",
       "      <td>https://www.ted.com//talks/elizabeth_loftus_ho...</td>\n",
       "    </tr>\n",
       "    <tr>\n",
       "      <th>8</th>\n",
       "      <td>A promising test for pancreatic cancer ... fro...</td>\n",
       "      <td>Jack Andraka</td>\n",
       "      <td>10:49</td>\n",
       "      <td>4.9M</td>\n",
       "      <td>https://www.ted.com//talks/jack_andraka_a_prom...</td>\n",
       "    </tr>\n",
       "    <tr>\n",
       "      <th>9</th>\n",
       "      <td>What happens during a heart attack?</td>\n",
       "      <td>Krishna Sudhir</td>\n",
       "      <td>4:39</td>\n",
       "      <td>4.8M</td>\n",
       "      <td>https://www.ted.com//talks/krishna_sudhir_what...</td>\n",
       "    </tr>\n",
       "    <tr>\n",
       "      <th>10</th>\n",
       "      <td>The surprisingly charming science of your gut</td>\n",
       "      <td>Giulia Enders</td>\n",
       "      <td>14:03</td>\n",
       "      <td>4.7M</td>\n",
       "      <td>https://www.ted.com//talks/giulia_enders_the_s...</td>\n",
       "    </tr>\n",
       "    <tr>\n",
       "      <th>11</th>\n",
       "      <td>Is the obesity crisis hiding a bigger problem?</td>\n",
       "      <td>Peter Attia</td>\n",
       "      <td>15:58</td>\n",
       "      <td>4.4M</td>\n",
       "      <td>https://www.ted.com//talks/peter_attia_is_the_...</td>\n",
       "    </tr>\n",
       "    <tr>\n",
       "      <th>12</th>\n",
       "      <td>Autism — what we know (and what we don't know ...</td>\n",
       "      <td>Wendy Chung</td>\n",
       "      <td>15:35</td>\n",
       "      <td>4.1M</td>\n",
       "      <td>https://www.ted.com//talks/wendy_chung_autism_...</td>\n",
       "    </tr>\n",
       "    <tr>\n",
       "      <th>13</th>\n",
       "      <td>What is bipolar disorder?</td>\n",
       "      <td>Helen M. Farrell</td>\n",
       "      <td>5:52</td>\n",
       "      <td>4.1M</td>\n",
       "      <td>https://www.ted.com//talks/helen_m_farrell_wha...</td>\n",
       "    </tr>\n",
       "    <tr>\n",
       "      <th>14</th>\n",
       "      <td>How your emotions change the shape of your heart</td>\n",
       "      <td>Sandeep Jauhar</td>\n",
       "      <td>16:02</td>\n",
       "      <td>4M</td>\n",
       "      <td>https://www.ted.com//talks/sandeep_jauhar_how_...</td>\n",
       "    </tr>\n",
       "    <tr>\n",
       "      <th>15</th>\n",
       "      <td>The future of psychedelic-assisted psychotherapy</td>\n",
       "      <td>Rick Doblin</td>\n",
       "      <td>16:32</td>\n",
       "      <td>3.6M</td>\n",
       "      <td>https://www.ted.com//talks/rick_doblin_the_fut...</td>\n",
       "    </tr>\n",
       "    <tr>\n",
       "      <th>16</th>\n",
       "      <td>What happens when you remove the hippocampus?</td>\n",
       "      <td>Sam Kean</td>\n",
       "      <td>5:10</td>\n",
       "      <td>3.5M</td>\n",
       "      <td>https://www.ted.com//talks/sam_kean_what_happe...</td>\n",
       "    </tr>\n",
       "    <tr>\n",
       "      <th>17</th>\n",
       "      <td>How CRISPR lets us edit our DNA</td>\n",
       "      <td>Jennifer Doudna</td>\n",
       "      <td>15:53</td>\n",
       "      <td>3.4M</td>\n",
       "      <td>https://www.ted.com//talks/jennifer_doudna_how...</td>\n",
       "    </tr>\n",
       "    <tr>\n",
       "      <th>18</th>\n",
       "      <td>The brain may be able to repair itself — with ...</td>\n",
       "      <td>Jocelyne Bloch</td>\n",
       "      <td>11:34</td>\n",
       "      <td>3.3M</td>\n",
       "      <td>https://www.ted.com//talks/jocelyne_bloch_the_...</td>\n",
       "    </tr>\n",
       "    <tr>\n",
       "      <th>19</th>\n",
       "      <td>Printing a human kidney</td>\n",
       "      <td>Anthony Atala</td>\n",
       "      <td>17:24</td>\n",
       "      <td>3.1M</td>\n",
       "      <td>https://www.ted.com//talks/anthony_atala_print...</td>\n",
       "    </tr>\n",
       "    <tr>\n",
       "      <th>20</th>\n",
       "      <td>The power of the placebo effect</td>\n",
       "      <td>Emma Bryce</td>\n",
       "      <td>4:22</td>\n",
       "      <td>3M</td>\n",
       "      <td>https://www.ted.com//talks/emma_bryce_the_powe...</td>\n",
       "    </tr>\n",
       "    <tr>\n",
       "      <th>21</th>\n",
       "      <td>How menopause affects the brain</td>\n",
       "      <td>Lisa Mosconi</td>\n",
       "      <td>13:04</td>\n",
       "      <td>2.9M</td>\n",
       "      <td>https://www.ted.com//talks/lisa_mosconi_how_me...</td>\n",
       "    </tr>\n",
       "    <tr>\n",
       "      <th>22</th>\n",
       "      <td>A doctor's case for medical marijuana</td>\n",
       "      <td>David Casarett</td>\n",
       "      <td>15:07</td>\n",
       "      <td>2.9M</td>\n",
       "      <td>https://www.ted.com//talks/david_casarett_a_do...</td>\n",
       "    </tr>\n",
       "    <tr>\n",
       "      <th>23</th>\n",
       "      <td>The most groundbreaking scientist you've never...</td>\n",
       "      <td>Addison Anderson</td>\n",
       "      <td>4:18</td>\n",
       "      <td>2.7M</td>\n",
       "      <td>https://www.ted.com//talks/addison_anderson_th...</td>\n",
       "    </tr>\n",
       "    <tr>\n",
       "      <th>24</th>\n",
       "      <td>The genius of Marie Curie</td>\n",
       "      <td>Shohini Ghose</td>\n",
       "      <td>4:43</td>\n",
       "      <td>2.7M</td>\n",
       "      <td>https://www.ted.com//talks/shohini_ghose_the_g...</td>\n",
       "    </tr>\n",
       "    <tr>\n",
       "      <th>25</th>\n",
       "      <td>What you should know about vaping and e-cigare...</td>\n",
       "      <td>Suchitra Krishnan-Sarin</td>\n",
       "      <td>14:29</td>\n",
       "      <td>2.6M</td>\n",
       "      <td>https://www.ted.com//talks/suchitra_krishnan_s...</td>\n",
       "    </tr>\n",
       "    <tr>\n",
       "      <th>26</th>\n",
       "      <td>How does your body process medicine?</td>\n",
       "      <td>Céline Valéry</td>\n",
       "      <td>3:58</td>\n",
       "      <td>2.6M</td>\n",
       "      <td>https://www.ted.com//talks/celine_valery_how_d...</td>\n",
       "    </tr>\n",
       "    <tr>\n",
       "      <th>27</th>\n",
       "      <td>What doctors don't know about the drugs they p...</td>\n",
       "      <td>Ben Goldacre</td>\n",
       "      <td>13:29</td>\n",
       "      <td>2.6M</td>\n",
       "      <td>https://www.ted.com//talks/ben_goldacre_what_d...</td>\n",
       "    </tr>\n",
       "    <tr>\n",
       "      <th>28</th>\n",
       "      <td>How the pandemic will shape the near future</td>\n",
       "      <td>Bill Gates</td>\n",
       "      <td>43:07</td>\n",
       "      <td>2.5M</td>\n",
       "      <td>https://www.ted.com//talks/bill_gates_how_the_...</td>\n",
       "    </tr>\n",
       "    <tr>\n",
       "      <th>29</th>\n",
       "      <td>The next software revolution: programming biol...</td>\n",
       "      <td>Sara-Jane Dunn</td>\n",
       "      <td>14:47</td>\n",
       "      <td>2.5M</td>\n",
       "      <td>https://www.ted.com//talks/sara_jane_dunn_the_...</td>\n",
       "    </tr>\n",
       "    <tr>\n",
       "      <th>30</th>\n",
       "      <td>The surprising effects of pregnancy</td>\n",
       "      <td>TED-Ed</td>\n",
       "      <td>5:25</td>\n",
       "      <td>2.5M</td>\n",
       "      <td>https://www.ted.com//talks/ted_ed_the_surprisi...</td>\n",
       "    </tr>\n",
       "    <tr>\n",
       "      <th>31</th>\n",
       "      <td>Alzheimer's is not normal aging — and we can c...</td>\n",
       "      <td>Samuel Cohen</td>\n",
       "      <td>7:53</td>\n",
       "      <td>2.4M</td>\n",
       "      <td>https://www.ted.com//talks/samuel_cohen_alzhei...</td>\n",
       "    </tr>\n",
       "    <tr>\n",
       "      <th>32</th>\n",
       "      <td>How the gut microbes you're born with affect y...</td>\n",
       "      <td>Henna-Maria Uusitupa</td>\n",
       "      <td>10:40</td>\n",
       "      <td>2.4M</td>\n",
       "      <td>https://www.ted.com//talks/henna_maria_uusitup...</td>\n",
       "    </tr>\n",
       "    <tr>\n",
       "      <th>33</th>\n",
       "      <td>Why sleep matters now more than ever</td>\n",
       "      <td>Matt Walker</td>\n",
       "      <td>1h  0m</td>\n",
       "      <td>2.4M</td>\n",
       "      <td>https://www.ted.com//talks/matt_walker_why_sle...</td>\n",
       "    </tr>\n",
       "    <tr>\n",
       "      <th>34</th>\n",
       "      <td>How we could teach our bodies to heal faster</td>\n",
       "      <td>Kaitlyn Sadtler</td>\n",
       "      <td>4:57</td>\n",
       "      <td>2.4M</td>\n",
       "      <td>https://www.ted.com//talks/kaitlyn_sadtler_how...</td>\n",
       "    </tr>\n",
       "    <tr>\n",
       "      <th>35</th>\n",
       "      <td>A new class of drug that could prevent depress...</td>\n",
       "      <td>Rebecca Brachman</td>\n",
       "      <td>5:10</td>\n",
       "      <td>2.3M</td>\n",
       "      <td>https://www.ted.com//talks/rebecca_brachman_a_...</td>\n",
       "    </tr>\n",
       "  </tbody>\n",
       "</table>\n",
       "</div>"
      ],
      "text/plain": [
       "                                                Title  \\\n",
       "0                            Sleep is your superpower   \n",
       "1            You can grow new brain cells. Here's how   \n",
       "2                           How does anesthesia work?   \n",
       "3                    Conception to birth — visualized   \n",
       "4                    Is marijuana bad for your brain?   \n",
       "5              What you can do to prevent Alzheimer's   \n",
       "6         One more reason to get a good night's sleep   \n",
       "7                        How reliable is your memory?   \n",
       "8   A promising test for pancreatic cancer ... fro...   \n",
       "9                 What happens during a heart attack?   \n",
       "10      The surprisingly charming science of your gut   \n",
       "11     Is the obesity crisis hiding a bigger problem?   \n",
       "12  Autism — what we know (and what we don't know ...   \n",
       "13                          What is bipolar disorder?   \n",
       "14   How your emotions change the shape of your heart   \n",
       "15   The future of psychedelic-assisted psychotherapy   \n",
       "16      What happens when you remove the hippocampus?   \n",
       "17                    How CRISPR lets us edit our DNA   \n",
       "18  The brain may be able to repair itself — with ...   \n",
       "19                            Printing a human kidney   \n",
       "20                    The power of the placebo effect   \n",
       "21                    How menopause affects the brain   \n",
       "22              A doctor's case for medical marijuana   \n",
       "23  The most groundbreaking scientist you've never...   \n",
       "24                          The genius of Marie Curie   \n",
       "25  What you should know about vaping and e-cigare...   \n",
       "26               How does your body process medicine?   \n",
       "27  What doctors don't know about the drugs they p...   \n",
       "28        How the pandemic will shape the near future   \n",
       "29  The next software revolution: programming biol...   \n",
       "30                The surprising effects of pregnancy   \n",
       "31  Alzheimer's is not normal aging — and we can c...   \n",
       "32  How the gut microbes you're born with affect y...   \n",
       "33               Why sleep matters now more than ever   \n",
       "34       How we could teach our bodies to heal faster   \n",
       "35  A new class of drug that could prevent depress...   \n",
       "\n",
       "                    Speaker Duration Views  \\\n",
       "0               Matt Walker    19:18   13M   \n",
       "1           Sandrine Thuret    11:04  9.6M   \n",
       "2              Steven Zheng     4:41  9.1M   \n",
       "3         Alexander Tsiaras     9:37  8.1M   \n",
       "4               Anees Bahji     6:21  5.8M   \n",
       "5               Lisa Genova    13:56  5.3M   \n",
       "6                Jeff Iliff    11:41  5.3M   \n",
       "7          Elizabeth Loftus    17:36  5.3M   \n",
       "8              Jack Andraka    10:49  4.9M   \n",
       "9            Krishna Sudhir     4:39  4.8M   \n",
       "10            Giulia Enders    14:03  4.7M   \n",
       "11              Peter Attia    15:58  4.4M   \n",
       "12              Wendy Chung    15:35  4.1M   \n",
       "13         Helen M. Farrell     5:52  4.1M   \n",
       "14           Sandeep Jauhar    16:02    4M   \n",
       "15              Rick Doblin    16:32  3.6M   \n",
       "16                 Sam Kean     5:10  3.5M   \n",
       "17          Jennifer Doudna    15:53  3.4M   \n",
       "18           Jocelyne Bloch    11:34  3.3M   \n",
       "19            Anthony Atala    17:24  3.1M   \n",
       "20               Emma Bryce     4:22    3M   \n",
       "21             Lisa Mosconi    13:04  2.9M   \n",
       "22           David Casarett    15:07  2.9M   \n",
       "23         Addison Anderson     4:18  2.7M   \n",
       "24            Shohini Ghose     4:43  2.7M   \n",
       "25  Suchitra Krishnan-Sarin    14:29  2.6M   \n",
       "26            Céline Valéry     3:58  2.6M   \n",
       "27             Ben Goldacre    13:29  2.6M   \n",
       "28               Bill Gates    43:07  2.5M   \n",
       "29           Sara-Jane Dunn    14:47  2.5M   \n",
       "30                   TED-Ed     5:25  2.5M   \n",
       "31             Samuel Cohen     7:53  2.4M   \n",
       "32     Henna-Maria Uusitupa    10:40  2.4M   \n",
       "33              Matt Walker   1h  0m  2.4M   \n",
       "34          Kaitlyn Sadtler     4:57  2.4M   \n",
       "35         Rebecca Brachman     5:10  2.3M   \n",
       "\n",
       "                                                 URLs  \n",
       "0   https://www.ted.com//talks/matt_walker_sleep_i...  \n",
       "1   https://www.ted.com//talks/sandrine_thuret_you...  \n",
       "2   https://www.ted.com//talks/steven_zheng_how_do...  \n",
       "3   https://www.ted.com//talks/alexander_tsiaras_c...  \n",
       "4   https://www.ted.com//talks/anees_bahji_is_mari...  \n",
       "5   https://www.ted.com//talks/lisa_genova_what_yo...  \n",
       "6   https://www.ted.com//talks/jeff_iliff_one_more...  \n",
       "7   https://www.ted.com//talks/elizabeth_loftus_ho...  \n",
       "8   https://www.ted.com//talks/jack_andraka_a_prom...  \n",
       "9   https://www.ted.com//talks/krishna_sudhir_what...  \n",
       "10  https://www.ted.com//talks/giulia_enders_the_s...  \n",
       "11  https://www.ted.com//talks/peter_attia_is_the_...  \n",
       "12  https://www.ted.com//talks/wendy_chung_autism_...  \n",
       "13  https://www.ted.com//talks/helen_m_farrell_wha...  \n",
       "14  https://www.ted.com//talks/sandeep_jauhar_how_...  \n",
       "15  https://www.ted.com//talks/rick_doblin_the_fut...  \n",
       "16  https://www.ted.com//talks/sam_kean_what_happe...  \n",
       "17  https://www.ted.com//talks/jennifer_doudna_how...  \n",
       "18  https://www.ted.com//talks/jocelyne_bloch_the_...  \n",
       "19  https://www.ted.com//talks/anthony_atala_print...  \n",
       "20  https://www.ted.com//talks/emma_bryce_the_powe...  \n",
       "21  https://www.ted.com//talks/lisa_mosconi_how_me...  \n",
       "22  https://www.ted.com//talks/david_casarett_a_do...  \n",
       "23  https://www.ted.com//talks/addison_anderson_th...  \n",
       "24  https://www.ted.com//talks/shohini_ghose_the_g...  \n",
       "25  https://www.ted.com//talks/suchitra_krishnan_s...  \n",
       "26  https://www.ted.com//talks/celine_valery_how_d...  \n",
       "27  https://www.ted.com//talks/ben_goldacre_what_d...  \n",
       "28  https://www.ted.com//talks/bill_gates_how_the_...  \n",
       "29  https://www.ted.com//talks/sara_jane_dunn_the_...  \n",
       "30  https://www.ted.com//talks/ted_ed_the_surprisi...  \n",
       "31  https://www.ted.com//talks/samuel_cohen_alzhei...  \n",
       "32  https://www.ted.com//talks/henna_maria_uusitup...  \n",
       "33  https://www.ted.com//talks/matt_walker_why_sle...  \n",
       "34  https://www.ted.com//talks/kaitlyn_sadtler_how...  \n",
       "35  https://www.ted.com//talks/rebecca_brachman_a_...  "
      ]
     },
     "execution_count": 37,
     "metadata": {},
     "output_type": "execute_result"
    }
   ],
   "source": [
    "talks_pd"
   ]
  },
  {
   "cell_type": "markdown",
   "metadata": {},
   "source": [
    "We have now extracted information from the first page of the webpage."
   ]
  },
  {
   "cell_type": "code",
   "execution_count": 38,
   "metadata": {},
   "outputs": [],
   "source": [
    "#Save our our in a csv file\n",
    "talks_pd.to_csv('talks.csv', index = None)"
   ]
  },
  {
   "cell_type": "code",
   "execution_count": 39,
   "metadata": {},
   "outputs": [],
   "source": [
    "!pip install jovian --upgrade --quiet"
   ]
  },
  {
   "cell_type": "code",
   "execution_count": 40,
   "metadata": {},
   "outputs": [],
   "source": [
    "import jovian"
   ]
  },
  {
   "cell_type": "code",
   "execution_count": 41,
   "metadata": {},
   "outputs": [
    {
     "data": {
      "application/javascript": [
       "window.require && require([\"base/js/namespace\"],function(Jupyter){Jupyter.notebook.save_checkpoint()})"
      ],
      "text/plain": [
       "<IPython.core.display.Javascript object>"
      ]
     },
     "metadata": {},
     "output_type": "display_data"
    },
    {
     "name": "stdout",
     "output_type": "stream",
     "text": [
      "[jovian] Attempting to save notebook..\u001b[0m\n",
      "[jovian] Updating notebook \"dafrireece/data-science-bootcamp-project1\" on https://jovian.ai\u001b[0m\n",
      "[jovian] Uploading notebook..\u001b[0m\n",
      "[jovian] Uploading additional files...\u001b[0m\n",
      "[jovian] Committed successfully! https://jovian.ai/dafrireece/data-science-bootcamp-project1\u001b[0m\n"
     ]
    },
    {
     "data": {
      "text/plain": [
       "'https://jovian.ai/dafrireece/data-science-bootcamp-project1'"
      ]
     },
     "execution_count": 41,
     "metadata": {},
     "output_type": "execute_result"
    }
   ],
   "source": [
    "jovian.commit(project='data-science-bootcamp-project-1', file = 'talks.csv')"
   ]
  },
  {
   "cell_type": "markdown",
   "metadata": {},
   "source": [
    "## Scraping the other pages\n",
    "\n",
    "Since the submitted CSV file needs to contain at least 3 columns and 100 rows of data, we will need to scrape other pages."
   ]
  },
  {
   "cell_type": "code",
   "execution_count": 42,
   "metadata": {},
   "outputs": [],
   "source": [
    "def get_page(talks_url):\n",
    "    #URL to scrape\n",
    "    talks_url = talks_url\n",
    "    # get HTML page using requests\n",
    "    response = requests.get(talks_url)\n",
    "    #confirm request is a success\n",
    "    if response.status_code != 200:\n",
    "        raise Exception('Failed to load page {}'.format(talks_url))\n",
    "    #create beautiful soup object    \n",
    "    talk_doc = BeautifulSoup(response.text)\n",
    "    return talk_doc"
   ]
  },
  {
   "cell_type": "code",
   "execution_count": 43,
   "metadata": {},
   "outputs": [],
   "source": [
    "#Code for extracting info \n",
    "def get_title(talk_doc):\n",
    "    title = []\n",
    "    selection_class = ('f-w:700 h9 m5')\n",
    "    title_tags = talk_doc.find_all('h4',{'class' : selection_class})\n",
    "    for tag in title_tags:\n",
    "        title.append(tag.text.strip())\n",
    "\n",
    "    return title\n",
    "\n",
    "def get_speakers(talks_doc):\n",
    "    speakers= []\n",
    "    speaker_class = 'h12 talk-link__speaker'\n",
    "    speaker_tag = talks_doc.find_all('h4',{'class' : speaker_class })\n",
    "    for tag in speaker_tag:\n",
    "        speakers.append(tag.text)\n",
    "\n",
    "    return speakers \n",
    "def get_time(talk_doc):\n",
    "    talk_time = []\n",
    "    duration_tag = 'thumb__duration'\n",
    "    talk_duration = talk_doc.find_all('span', {'class' : duration_tag })\n",
    "    for duration in talk_duration:\n",
    "        talk_time.append(duration.text)\n",
    "\n",
    "    return talk_time \n",
    "def get_views(talk_doc):\n",
    "    talk_views = []\n",
    "    views_class = 'meta__val'\n",
    "    views = talk_doc.find_all('span',{'class' : views_class})\n",
    "    for view in views:\n",
    "        talk_views.append(view.text.strip())\n",
    "\n",
    "    return talk_views\n",
    "\n",
    "def get_urls(talk_doc):\n",
    "    urls = []\n",
    "    a_tags = talk_doc.find_all('a', {'class': 'ga-link', 'data-ga-context': 'talks'})\n",
    "    for a_tag in a_tags:\n",
    "        url = ('https://www.ted.com/' + a_tag['href'])\n",
    "        if url not in urls:\n",
    "            urls.append('https://www.ted.com/' + a_tag['href'])\n",
    "            \n",
    "    return urls"
   ]
  },
  {
   "cell_type": "code",
   "execution_count": 44,
   "metadata": {},
   "outputs": [],
   "source": [
    "#looping through the pages\n",
    "total_page = 4 #no.of pages to extract\n",
    "for page in range(1,total_page+1):\n",
    "    talks_url_format = 'https://www.ted.com/talks?page={page}&sort=popular&topics%5B%5D=medical+research'\n",
    "    talks_url = talks_url_format.format(page=page)"
   ]
  },
  {
   "cell_type": "markdown",
   "metadata": {},
   "source": [
    "Since we are going to scrape a number of pages, the website can slow down or crash if it receives too many requests or visits. The standard practice calls for setting time-outs for the requests sent to a page. This is achieved by making use of the Python's `sleep()` function."
   ]
  },
  {
   "cell_type": "code",
   "execution_count": 45,
   "metadata": {},
   "outputs": [],
   "source": [
    "#import time module\n",
    "from time import sleep"
   ]
  },
  {
   "cell_type": "markdown",
   "metadata": {},
   "source": [
    "We will now create functions to scrape the other pages."
   ]
  },
  {
   "cell_type": "code",
   "execution_count": 46,
   "metadata": {},
   "outputs": [],
   "source": [
    "#To get the web page\n",
    "def scrape_page(page):\n",
    "    talks_url_format = 'https://www.ted.com/talks?page={page}&sort=popular&topics%5B%5D=medical+research'\n",
    "    talks_url = talks_url_format.format(page=page)\n",
    "    talk_doc = get_page(talks_url)\n",
    "\n",
    "    talks_dict = {\n",
    "        'Title' : get_title(talk_doc),\n",
    "        'Speaker' : get_speakers(talk_doc),\n",
    "        'Duration' : get_time(talk_doc),\n",
    "        'Views' : get_views(talk_doc),\n",
    "        'URLs' : get_urls(talk_doc)\n",
    "    }\n",
    "    print(talks_dict)\n",
    "    talks_pd = pd.DataFrame(talks_dict)\n",
    "    return talks_pd\n",
    "\n",
    "#looping and creating csv files\n",
    "def scrape_talks(talks_url, total_page=4):\n",
    "    pages = []\n",
    "    final_df = pd.DataFrame()\n",
    "    for page in range(1, total_page+1):\n",
    "        pages.append(scrape_page(page))\n",
    "        \n",
    "        sleep(2) #delay scraping time\n",
    "        \n",
    "    final_df = pd.concat(pages,ignore_index=True)    \n",
    "    final_df.to_csv('talks.csv'.format(page), index=None)     \n",
    "    return final_df   \n"
   ]
  },
  {
   "cell_type": "code",
   "execution_count": 47,
   "metadata": {},
   "outputs": [
    {
     "name": "stdout",
     "output_type": "stream",
     "text": [
      "{'Title': ['Sleep is your superpower', \"You can grow new brain cells. Here's how\", 'How does anesthesia work?', 'Conception to birth — visualized', 'Is marijuana bad for your brain?', \"What you can do to prevent Alzheimer's\", \"One more reason to get a good night's sleep\", 'How reliable is your memory?', 'A promising test for pancreatic cancer ... from a teenager', 'What happens during a heart attack?', 'The surprisingly charming science of your gut', 'Is the obesity crisis hiding a bigger problem?', \"Autism — what we know (and what we don't know yet)\", 'What is bipolar disorder?', 'How your emotions change the shape of your heart', 'The future of psychedelic-assisted psychotherapy', 'What happens when you remove the hippocampus?', 'How CRISPR lets us edit our DNA', 'The brain may be able to repair itself — with help', 'Printing a human kidney', 'The power of the placebo effect', 'How menopause affects the brain', \"A doctor's case for medical marijuana\", \"The most groundbreaking scientist you've never heard of\", 'The genius of Marie Curie', 'What you should know about vaping and e-cigarettes', 'How does your body process medicine?', \"What doctors don't know about the drugs they prescribe\", 'How the pandemic will shape the near future', 'The next software revolution: programming biological cells', 'The surprising effects of pregnancy', \"Alzheimer's is not normal aging — and we can cure it\", \"How the gut microbes you're born with affect your lifelong health\", 'Why sleep matters now more than ever', 'How we could teach our bodies to heal faster', 'A new class of drug that could prevent depression and PTSD'], 'Speaker': ['Matt Walker', 'Sandrine Thuret', 'Steven Zheng', 'Alexander Tsiaras', 'Anees Bahji', 'Lisa Genova', 'Jeff Iliff', 'Elizabeth Loftus', 'Jack Andraka', 'Krishna Sudhir', 'Giulia Enders', 'Peter Attia', 'Wendy Chung', 'Helen M. Farrell', 'Sandeep Jauhar', 'Rick Doblin', 'Sam Kean', 'Jennifer Doudna', 'Jocelyne Bloch', 'Anthony Atala', 'Emma Bryce', 'Lisa Mosconi', 'David Casarett', 'Addison Anderson', 'Shohini Ghose', 'Suchitra Krishnan-Sarin', 'Céline Valéry', 'Ben Goldacre', 'Bill Gates', 'Sara-Jane Dunn', 'TED-Ed', 'Samuel Cohen', 'Henna-Maria Uusitupa', 'Matt Walker', 'Kaitlyn Sadtler', 'Rebecca Brachman'], 'Duration': ['19:18', '11:04', ' 4:41', ' 9:37', ' 6:21', '13:56', '11:41', '17:36', '10:49', ' 4:39', '14:03', '15:58', '15:35', ' 5:52', '16:02', '16:32', ' 5:10', '15:53', '11:34', '17:24', ' 4:22', '13:04', '15:07', ' 4:18', ' 4:43', '14:29', ' 3:58', '13:29', '43:07', '14:47', ' 5:25', ' 7:53', '10:40', '1h  0m', ' 4:57', ' 5:10'], 'Views': ['13M', '9.6M', '9.1M', '8.1M', '5.8M', '5.3M', '5.3M', '5.3M', '4.9M', '4.8M', '4.7M', '4.4M', '4.1M', '4.1M', '4M', '3.6M', '3.5M', '3.4M', '3.3M', '3.1M', '3M', '2.9M', '2.9M', '2.7M', '2.7M', '2.6M', '2.6M', '2.6M', '2.5M', '2.5M', '2.5M', '2.4M', '2.4M', '2.4M', '2.4M', '2.3M'], 'URLs': ['https://www.ted.com//talks/matt_walker_sleep_is_your_superpower', 'https://www.ted.com//talks/sandrine_thuret_you_can_grow_new_brain_cells_here_s_how', 'https://www.ted.com//talks/steven_zheng_how_does_anesthesia_work', 'https://www.ted.com//talks/alexander_tsiaras_conception_to_birth_visualized', 'https://www.ted.com//talks/anees_bahji_is_marijuana_bad_for_your_brain', 'https://www.ted.com//talks/lisa_genova_what_you_can_do_to_prevent_alzheimer_s', 'https://www.ted.com//talks/jeff_iliff_one_more_reason_to_get_a_good_night_s_sleep', 'https://www.ted.com//talks/elizabeth_loftus_how_reliable_is_your_memory', 'https://www.ted.com//talks/jack_andraka_a_promising_test_for_pancreatic_cancer_from_a_teenager', 'https://www.ted.com//talks/krishna_sudhir_what_happens_during_a_heart_attack', 'https://www.ted.com//talks/giulia_enders_the_surprisingly_charming_science_of_your_gut', 'https://www.ted.com//talks/peter_attia_is_the_obesity_crisis_hiding_a_bigger_problem', 'https://www.ted.com//talks/wendy_chung_autism_what_we_know_and_what_we_don_t_know_yet', 'https://www.ted.com//talks/helen_m_farrell_what_is_bipolar_disorder', 'https://www.ted.com//talks/sandeep_jauhar_how_your_emotions_change_the_shape_of_your_heart', 'https://www.ted.com//talks/rick_doblin_the_future_of_psychedelic_assisted_psychotherapy', 'https://www.ted.com//talks/sam_kean_what_happens_when_you_remove_the_hippocampus', 'https://www.ted.com//talks/jennifer_doudna_how_crispr_lets_us_edit_our_dna', 'https://www.ted.com//talks/jocelyne_bloch_the_brain_may_be_able_to_repair_itself_with_help', 'https://www.ted.com//talks/anthony_atala_printing_a_human_kidney', 'https://www.ted.com//talks/emma_bryce_the_power_of_the_placebo_effect', 'https://www.ted.com//talks/lisa_mosconi_how_menopause_affects_the_brain', 'https://www.ted.com//talks/david_casarett_a_doctor_s_case_for_medical_marijuana', 'https://www.ted.com//talks/addison_anderson_the_most_groundbreaking_scientist_you_ve_never_heard_of', 'https://www.ted.com//talks/shohini_ghose_the_genius_of_marie_curie', 'https://www.ted.com//talks/suchitra_krishnan_sarin_what_you_should_know_about_vaping_and_e_cigarettes', 'https://www.ted.com//talks/celine_valery_how_does_your_body_process_medicine', 'https://www.ted.com//talks/ben_goldacre_what_doctors_don_t_know_about_the_drugs_they_prescribe', 'https://www.ted.com//talks/bill_gates_how_the_pandemic_will_shape_the_near_future', 'https://www.ted.com//talks/sara_jane_dunn_the_next_software_revolution_programming_biological_cells', 'https://www.ted.com//talks/ted_ed_the_surprising_effects_of_pregnancy', 'https://www.ted.com//talks/samuel_cohen_alzheimer_s_is_not_normal_aging_and_we_can_cure_it', 'https://www.ted.com//talks/henna_maria_uusitupa_how_the_gut_microbes_you_re_born_with_affect_your_lifelong_health', 'https://www.ted.com//talks/matt_walker_why_sleep_matters_now_more_than_ever', 'https://www.ted.com//talks/kaitlyn_sadtler_how_we_could_teach_our_bodies_to_heal_faster', 'https://www.ted.com//talks/rebecca_brachman_a_new_class_of_drug_that_could_prevent_depression_and_ptsd']}\n",
      "{'Title': ['How synthetic biology could wipe out humanity — and how we can stop it', 'What investigating neural pathways can reveal about mental health', 'How does laser eye surgery work?', 'The quest to understand consciousness', \"Ancient Rome's most notorious doctor\", 'What your breath could reveal about your health', \"Why it's so hard to cure HIV/AIDS\", \"What happens when you have a disease doctors can't diagnose\", 'Why noise is bad for your health — and what you can do about it', 'The age of genetic wonder', 'Can we regenerate heart muscle with stem cells?', 'An AI smartwatch that detects seizures', 'How to read the genome and build a human being', 'The medical potential of AI and metabolites', \"To detect diseases earlier, let's speak bacteria's secret language\", 'A life-saving device that detects silent heart attacks', \"How we're using AI to discover new antibiotics\", 'How isolation fuels opioid addiction', 'The secrets of spider venom', 'A virus detection network to stop the next pandemic', 'The pharmacy of the future? Personalized pills, 3D printed at home', 'How cancer cells communicate — and how we can slow them down', 'What really happens when you mix medications?', 'How young blood might help reverse aging. Yes, really', 'Can light stop the coronavirus?', 'What Americans agree on when it comes to health', 'You smell with your body, not just your nose', 'The amazing story of the man who gave us modern pain relief', 'The radical possibilities of man-made DNA', 'Could a drug prevent depression and PTSD?', \"What we'll learn about the brain in the next century\", 'Your body vs. implants', 'Why medicine often has dangerous side effects for women', 'Body parts on a chip', 'The virginity fraud', 'The key to a better malaria vaccine'], 'Speaker': ['Rob Reid', 'Kay M. Tye', 'Dan Reinstein', 'Antonio Damasio', 'Ramon Glazov', 'Julian Burschka', 'Janet Iwasa', 'Jennifer Brea', 'Mathias Basner', 'Juan Enriquez', 'Chuck Murry', 'Rosalind Picard', 'Riccardo Sabatini', 'Leila Pirhaji', \"Fatima AlZahra'a Alatraktchi\", 'Akash Manoj', 'Jim Collins', 'Rachel Wurzman', 'Michel Dugon', 'Pardis Sabeti and Christian Happi', 'Daniel Kraft', 'Hasini Jayatilaka', 'Russ Altman', 'Tony Wyss-Coray', 'David Brenner', 'Rebecca Onie', 'Jennifer Pluznick', 'Latif Nasser', 'Floyd E. Romesberg', 'Rebecca Brachman', 'Sam Rodriques', 'Kaitlyn Sadtler', 'Alyson McGregor', 'Geraldine Hamilton', 'Nina Dølvik Brochmann and Ellen Støkken Dahl', 'Faith Osier'], 'Duration': ['16:36', '12:59', ' 5:16', '18:42', ' 4:54', '13:29', ' 4:30', '17:07', '10:04', '18:05', '14:35', '15:54', '15:28', ' 5:14', '11:41', ' 8:11', ' 7:15', '18:31', '12:52', ' 5:54', '12:12', '10:19', '14:41', '13:35', '30:15', '12:56', ' 7:04', '13:51', '13:56', '18:23', '13:31', ' 4:27', '15:29', '13:23', '11:41', ' 7:11'], 'Views': ['2.3M', '2.3M', '2.2M', '2.2M', '2.2M', '2.2M', '2.2M', '2.1M', '2.1M', '2M', '1.9M', '1.9M', '1.9M', '1.9M', '1.9M', '1.9M', '1.9M', '1.9M', '1.8M', '1.8M', '1.8M', '1.8M', '1.8M', '1.7M', '1.7M', '1.7M', '1.7M', '1.7M', '1.7M', '1.6M', '1.6M', '1.6M', '1.6M', '1.6M', '1.6M', '1.6M'], 'URLs': ['https://www.ted.com//talks/rob_reid_how_synthetic_biology_could_wipe_out_humanity_and_how_we_can_stop_it', 'https://www.ted.com//talks/kay_m_tye_what_investigating_neural_pathways_can_reveal_about_mental_health', 'https://www.ted.com//talks/dan_reinstein_how_does_laser_eye_surgery_work', 'https://www.ted.com//talks/antonio_damasio_the_quest_to_understand_consciousness', 'https://www.ted.com//talks/ramon_glazov_ancient_rome_s_most_notorious_doctor', 'https://www.ted.com//talks/julian_burschka_what_your_breath_could_reveal_about_your_health', 'https://www.ted.com//talks/janet_iwasa_why_it_s_so_hard_to_cure_hiv_aids', 'https://www.ted.com//talks/jennifer_brea_what_happens_when_you_have_a_disease_doctors_can_t_diagnose', 'https://www.ted.com//talks/mathias_basner_why_noise_is_bad_for_your_health_and_what_you_can_do_about_it', 'https://www.ted.com//talks/juan_enriquez_the_age_of_genetic_wonder_feb_2019', 'https://www.ted.com//talks/chuck_murry_can_we_regenerate_heart_muscle_with_stem_cells', 'https://www.ted.com//talks/rosalind_picard_an_ai_smartwatch_that_detects_seizures', 'https://www.ted.com//talks/riccardo_sabatini_how_to_read_the_genome_and_build_a_human_being', 'https://www.ted.com//talks/leila_pirhaji_the_medical_potential_of_ai_and_metabolites', 'https://www.ted.com//talks/fatima_alzahra_a_alatraktchi_to_detect_diseases_earlier_let_s_speak_bacteria_s_secret_language', 'https://www.ted.com//talks/akash_manoj_a_life_saving_device_that_detects_silent_heart_attacks', 'https://www.ted.com//talks/jim_collins_how_we_re_using_ai_to_discover_new_antibiotics', 'https://www.ted.com//talks/rachel_wurzman_how_isolation_fuels_opioid_addiction', 'https://www.ted.com//talks/michel_dugon_the_secrets_of_spider_venom', 'https://www.ted.com//talks/pardis_sabeti_and_christian_happi_a_virus_detection_network_to_stop_the_next_pandemic', 'https://www.ted.com//talks/daniel_kraft_the_pharmacy_of_the_future_personalized_pills_3d_printed_at_home', 'https://www.ted.com//talks/hasini_jayatilaka_how_cancer_cells_communicate_and_how_we_can_slow_them_down', 'https://www.ted.com//talks/russ_altman_what_really_happens_when_you_mix_medications', 'https://www.ted.com//talks/tony_wyss_coray_how_young_blood_might_help_reverse_aging_yes_really', 'https://www.ted.com//talks/david_brenner_can_light_stop_the_coronavirus', 'https://www.ted.com//talks/rebecca_onie_what_americans_agree_on_when_it_comes_to_health', 'https://www.ted.com//talks/jennifer_pluznick_you_smell_with_your_body_not_just_your_nose', 'https://www.ted.com//talks/latif_nasser_the_amazing_story_of_the_man_who_gave_us_modern_pain_relief', 'https://www.ted.com//talks/floyd_e_romesberg_the_radical_possibilities_of_man_made_dna', 'https://www.ted.com//talks/rebecca_brachman_could_a_drug_prevent_depression_and_ptsd', 'https://www.ted.com//talks/sam_rodriques_what_we_ll_learn_about_the_brain_in_the_next_century', 'https://www.ted.com//talks/kaitlyn_sadtler_your_body_vs_implants', 'https://www.ted.com//talks/alyson_mcgregor_why_medicine_often_has_dangerous_side_effects_for_women', 'https://www.ted.com//talks/geraldine_hamilton_body_parts_on_a_chip', 'https://www.ted.com//talks/nina_dolvik_brochmann_and_ellen_stokken_dahl_the_virginity_fraud', 'https://www.ted.com//talks/faith_osier_the_key_to_a_better_malaria_vaccine']}\n"
     ]
    },
    {
     "name": "stdout",
     "output_type": "stream",
     "text": [
      "{'Title': ['A new superweapon in the fight against cancer', \"Soon we'll cure diseases with a cell, not a pill\", 'How AI is making it easier to diagnose disease', 'How a long-forgotten virus could help us solve the antibiotics crisis', \"How we'll fight the next deadly virus\", 'How do ventilators work?', 'What the sugar coating on your cells is trying to tell you', 'How data is helping us unravel the mysteries of the brain', \"Why helmets don't prevent concussions — and what might\", 'A new way to monitor vital signs (that can see through walls)', \"How my son's short life made a lasting difference\", 'A new way to heal hearts without surgery', \"A teen scientist's invention to help wounds heal\", \"A new way to study the brain's invisible secrets\", 'What if we paid doctors to keep people healthy?', 'How do viruses jump from animals to humans?', 'How does chemotherapy work?', 'A temporary tattoo that brings hospital care to the home', 'A simple new blood test that can catch cancer early', 'Can the damaged brain repair itself?', 'What it takes to crush a pandemic', 'How I repaired my own heart', 'Good news in the fight against pancreatic cancer', \"What if we eliminated one of the world's oldest diseases?\", 'The problem with race-based medicine', 'The dangerous evolution of HIV', \"Science didn't understand my kids' rare disease until I decided to study it\", 'Leather and meat without killing animals', 'To solve old problems, study new species', 'Beware conflicts of interest', 'Beware neuro-bunk', 'A map of the brain', 'Advice to a young scientist', 'How digital DNA could help you make better health choices', 'A new way to grow bone', 'Could we cure HIV with lasers?'], 'Speaker': ['Paula Hammond', 'Siddhartha Mukherjee', 'Pratik Shah', 'Alexander Belcredi', 'Pardis Sabeti', 'Alex Gendler', 'Carolyn Bertozzi', 'Steve McCarroll', 'David Camarillo', 'Dina Katabi', 'Sarah Gray', 'Franz Freudenthal', 'Anushka Naiknaware', 'Ed Boyden', 'Matthias Müllenbeck', 'Ben Longdon', 'Hyunsoo Joshua No', 'Todd Coleman', 'Jimmy Lin', 'Siddharthan Chandran', 'Johanna Benesty', 'Tal Golesworthy', 'Laura Indolfi', 'Caroline Harper', 'Dorothy Roberts', 'Edsel Salvaña', 'Sharon Terry', 'Andras Forgacs', 'Alejandro Sánchez Alvarado', 'Dan Ariely', 'Molly Crockett', 'Allan Jones', 'E.O. Wilson', 'Jun Wang', 'Molly Stevens', 'Patience Mthunzi'], 'Duration': ['10:42', '17:35', ' 4:59', '11:13', ' 9:37', ' 5:21', '11:25', '17:22', '15:56', '13:17', '10:17', ' 9:28', ' 6:58', '13:15', '10:40', ' 4:47', ' 5:05', ' 9:39', '12:10', '15:57', '10:46', '13:14', ' 6:03', '10:12', '14:36', ' 4:44', '15:02', ' 9:02', '12:39', ' 5:35', '11:18', '15:21', '14:56', '14:54', '14:52', ' 4:25'], 'Views': ['1.6M', '1.6M', '1.6M', '1.6M', '1.6M', '1.6M', '1.5M', '1.5M', '1.5M', '1.5M', '1.5M', '1.5M', '1.5M', '1.5M', '1.5M', '1.5M', '1.5M', '1.5M', '1.5M', '1.4M', '1.4M', '1.4M', '1.4M', '1.4M', '1.3M', '1.3M', '1.3M', '1.3M', '1.3M', '1.3M', '1.3M', '1.3M', '1.3M', '1.3M', '1.2M', '1.2M'], 'URLs': ['https://www.ted.com//talks/paula_hammond_a_new_superweapon_in_the_fight_against_cancer', 'https://www.ted.com//talks/siddhartha_mukherjee_soon_we_ll_cure_diseases_with_a_cell_not_a_pill', 'https://www.ted.com//talks/pratik_shah_how_ai_is_making_it_easier_to_diagnose_disease', 'https://www.ted.com//talks/alexander_belcredi_how_a_long_forgotten_virus_could_help_us_solve_the_antibiotics_crisis', 'https://www.ted.com//talks/pardis_sabeti_how_we_ll_fight_the_next_deadly_virus', 'https://www.ted.com//talks/alex_gendler_how_do_ventilators_work', 'https://www.ted.com//talks/carolyn_bertozzi_what_the_sugar_coating_on_your_cells_is_trying_to_tell_you', 'https://www.ted.com//talks/steve_mccarroll_how_data_is_helping_us_unravel_the_mysteries_of_the_brain', 'https://www.ted.com//talks/david_camarillo_why_helmets_don_t_prevent_concussions_and_what_might', 'https://www.ted.com//talks/dina_katabi_a_new_way_to_monitor_vital_signs_that_can_see_through_walls', 'https://www.ted.com//talks/sarah_gray_how_my_son_s_short_life_made_a_lasting_difference', 'https://www.ted.com//talks/franz_freudenthal_a_new_way_to_heal_hearts_without_surgery', 'https://www.ted.com//talks/anushka_naiknaware_a_teen_scientist_s_invention_to_help_wounds_heal', 'https://www.ted.com//talks/ed_boyden_a_new_way_to_study_the_brain_s_invisible_secrets', 'https://www.ted.com//talks/matthias_mullenbeck_what_if_we_paid_doctors_to_keep_people_healthy', 'https://www.ted.com//talks/ben_longdon_how_do_viruses_jump_from_animals_to_humans', 'https://www.ted.com//talks/hyunsoo_joshua_no_how_does_chemotherapy_work', 'https://www.ted.com//talks/todd_coleman_a_temporary_tattoo_that_brings_hospital_care_to_the_home', 'https://www.ted.com//talks/jimmy_lin_a_simple_new_blood_test_that_can_catch_cancer_early', 'https://www.ted.com//talks/siddharthan_chandran_can_the_damaged_brain_repair_itself', 'https://www.ted.com//talks/johanna_benesty_what_it_takes_to_crush_a_pandemic', 'https://www.ted.com//talks/tal_golesworthy_how_i_repaired_my_own_heart', 'https://www.ted.com//talks/laura_indolfi_good_news_in_the_fight_against_pancreatic_cancer', 'https://www.ted.com//talks/caroline_harper_what_if_we_eliminated_one_of_the_world_s_oldest_diseases', 'https://www.ted.com//talks/dorothy_roberts_the_problem_with_race_based_medicine', 'https://www.ted.com//talks/edsel_salvana_the_dangerous_evolution_of_hiv', 'https://www.ted.com//talks/sharon_terry_science_didn_t_understand_my_kids_rare_disease_until_i_decided_to_study_it', 'https://www.ted.com//talks/andras_forgacs_leather_and_meat_without_killing_animals', 'https://www.ted.com//talks/alejandro_sanchez_alvarado_to_solve_old_problems_study_new_species', 'https://www.ted.com//talks/dan_ariely_beware_conflicts_of_interest', 'https://www.ted.com//talks/molly_crockett_beware_neuro_bunk', 'https://www.ted.com//talks/allan_jones_a_map_of_the_brain', 'https://www.ted.com//talks/e_o_wilson_advice_to_a_young_scientist', 'https://www.ted.com//talks/jun_wang_how_digital_dna_could_help_you_make_better_health_choices', 'https://www.ted.com//talks/molly_stevens_a_new_way_to_grow_bone', 'https://www.ted.com//talks/patience_mthunzi_could_we_cure_hiv_with_lasers']}\n",
      "{'Title': ['Theranos, whistleblowing and speaking truth to power', 'Could tissue engineering mean personalized medicine?', 'This simple test can help kids hear better', 'Why your doctor should care about social justice', 'Color-coded surgery', \"What makes TB the world's most infectious killer?\", 'How barbershops can keep men healthy', 'Could the sun be good for your heart?', 'What are stem cells?', 'Why science demands a leap into the unknown', 'How butterflies self-medicate', 'Should you be able to patent a human gene?', 'We can start winning the war against cancer', 'The shocking danger of mountaintop removal — and why it must end', 'Experiments that point to a new understanding of cancer', \"Demo: A needle-free vaccine patch that's safer and way cheaper\", '4 pillars of college success in science', 'The coming crisis in antibiotics', 'How fast can a vaccine be made?', 'Experiments that hint of longer lives', 'A smarter, more precise way to think about public health', 'Print your own medicine', 'Could future devices read images from our brains?', 'On the virtual dissection table', 'The paralyzed rat that walked', 'Why curiosity is the key to science and medicine', 'How racism harms pregnant women — and what can help', 'How to look inside the brain', 'Why genetic research must be more diverse', \"What's left to explore?\", 'A bold new way to fund drug research', 'The promise of research with stem cells', 'How animations can help scientists test a hypothesis', 'This tiny particle could roam your body to find tumors', 'We need better drugs — now', 'The single biggest health threat women face'], 'Speaker': ['Erika Cheung', 'Nina Tandon', 'Susan Emmett', 'Mary Bassett', 'Quyen Nguyen', 'Melvin Sanicas', 'Joseph Ravenell', 'Richard Weller', 'Craig A. Kohn', 'Uri Alon', 'Jaap de Roode', 'Tania Simoncelli', 'Adam de la Zerda', 'Michael Hendryx', 'Mina Bissell', 'Mark Kendall', 'Freeman Hrabowski', 'Ramanan Laxminarayan', 'Dan Kwartler', 'Cynthia Kenyon', 'Sue Desmond-Hellmann', 'Lee Cronin', 'Mary Lou Jepsen', 'Jack Choi', 'Grégoire Courtine', 'Kevin B. Jones', 'Miriam Zoila Pérez', 'Carl Schoonover', 'Keolu Fox', 'Nathan Wolfe', 'Roger Stein', 'Susan Solomon', 'Janet Iwasa', 'Sangeeta Bhatia', 'Francis Collins', 'Noel Bairey Merz'], 'Duration': ['16:50', ' 6:19', ' 5:24', '13:49', '16:08', ' 5:01', '13:08', '12:59', ' 3:55', '15:52', ' 6:15', '18:05', '12:42', '13:44', '16:18', '13:50', '15:10', '14:42', ' 5:32', '16:23', '14:18', ' 3:06', '10:26', ' 6:36', '14:23', '17:13', '12:25', ' 4:52', ' 6:48', ' 7:10', '11:09', '14:58', ' 5:06', '10:43', '14:40', '15:59'], 'Views': ['1.2M', '1.2M', '1.2M', '1.2M', '1.2M', '1.2M', '1.2M', '1.2M', '1.1M', '1.1M', '1.1M', '1.1M', '1.1M', '1.1M', '1.1M', '1.1M', '1M', '1M', '1M', '1M', '1M', '1M', '1M', '1M', '1M', '998K', '995K', '981K', '981K', '972K', '962K', '955K', '943K', '939K', '931K', '916K'], 'URLs': ['https://www.ted.com//talks/erika_cheung_theranos_whistleblowing_and_speaking_truth_to_power', 'https://www.ted.com//talks/nina_tandon_could_tissue_engineering_mean_personalized_medicine', 'https://www.ted.com//talks/susan_emmett_this_simple_test_can_help_kids_hear_better', 'https://www.ted.com//talks/mary_bassett_why_your_doctor_should_care_about_social_justice', 'https://www.ted.com//talks/quyen_nguyen_color_coded_surgery', 'https://www.ted.com//talks/melvin_sanicas_what_makes_tb_the_world_s_most_infectious_killer', 'https://www.ted.com//talks/joseph_ravenell_how_barbershops_can_keep_men_healthy', 'https://www.ted.com//talks/richard_weller_could_the_sun_be_good_for_your_heart', 'https://www.ted.com//talks/craig_a_kohn_what_are_stem_cells', 'https://www.ted.com//talks/uri_alon_why_science_demands_a_leap_into_the_unknown', 'https://www.ted.com//talks/jaap_de_roode_how_butterflies_self_medicate', 'https://www.ted.com//talks/tania_simoncelli_should_you_be_able_to_patent_a_human_gene', 'https://www.ted.com//talks/adam_de_la_zerda_we_can_start_winning_the_war_against_cancer', 'https://www.ted.com//talks/michael_hendryx_the_shocking_danger_of_mountaintop_removal_and_why_it_must_end', 'https://www.ted.com//talks/mina_bissell_experiments_that_point_to_a_new_understanding_of_cancer', 'https://www.ted.com//talks/mark_kendall_demo_a_needle_free_vaccine_patch_that_s_safer_and_way_cheaper', 'https://www.ted.com//talks/freeman_hrabowski_4_pillars_of_college_success_in_science', 'https://www.ted.com//talks/ramanan_laxminarayan_the_coming_crisis_in_antibiotics', 'https://www.ted.com//talks/dan_kwartler_how_fast_can_a_vaccine_be_made', 'https://www.ted.com//talks/cynthia_kenyon_experiments_that_hint_of_longer_lives', 'https://www.ted.com//talks/sue_desmond_hellmann_a_smarter_more_precise_way_to_think_about_public_health', 'https://www.ted.com//talks/lee_cronin_print_your_own_medicine', 'https://www.ted.com//talks/mary_lou_jepsen_could_future_devices_read_images_from_our_brains', 'https://www.ted.com//talks/jack_choi_on_the_virtual_dissection_table', 'https://www.ted.com//talks/gregoire_courtine_the_paralyzed_rat_that_walked', 'https://www.ted.com//talks/kevin_b_jones_why_curiosity_is_the_key_to_science_and_medicine', 'https://www.ted.com//talks/miriam_zoila_perez_how_racism_harms_pregnant_women_and_what_can_help', 'https://www.ted.com//talks/carl_schoonover_how_to_look_inside_the_brain', 'https://www.ted.com//talks/keolu_fox_why_genetic_research_must_be_more_diverse', 'https://www.ted.com//talks/nathan_wolfe_what_s_left_to_explore', 'https://www.ted.com//talks/roger_stein_a_bold_new_way_to_fund_drug_research', 'https://www.ted.com//talks/susan_solomon_the_promise_of_research_with_stem_cells', 'https://www.ted.com//talks/janet_iwasa_how_animations_can_help_scientists_test_a_hypothesis', 'https://www.ted.com//talks/sangeeta_bhatia_this_tiny_particle_could_roam_your_body_to_find_tumors', 'https://www.ted.com//talks/francis_collins_we_need_better_drugs_now', 'https://www.ted.com//talks/noel_bairey_merz_the_single_biggest_health_threat_women_face']}\n"
     ]
    },
    {
     "name": "stdout",
     "output_type": "stream",
     "text": [
      "{'Title': ['Meet your microbes', 'What doctors can learn from each other', 'Ultrasound surgery — healing without cuts', 'What is obesity?', 'How we can use light to see deep inside our bodies and brains', \"What we're learning from 5,000 brains\", 'How close are we to eradicating HIV?', 'Building the musical muscle', 'This one weird trick will help you spot clickbait', 'How CRISPR lets you edit DNA', 'The accident that changed the world', 'A new way to diagnose autism', 'Treating cancer with electric fields', 'Could a tattoo help you stay healthy?', 'How bones make blood', 'How this disease changes the shape of your cells', \"Saving faces: A facial surgeon's craft\", 'The quest for the coronavirus vaccine', 'How can we solve the antibiotic resistance crisis?', 'How light technology is changing medicine', 'Open-source cancer research', 'How do you know if you have a virus?', \"Let's pool our medical data\", 'How do blood transfusions work?', 'What is HPV and how can you protect yourself from it?', 'The global cooperation that accelerated the COVID-19 vaccines', \"Why do you get a fever when you're sick?\", 'A prosthetic eye to treat blindness', 'Understanding cancer through proteomics', 'Pool medical patents, save lives', \"Why haven't we cured arthritis?\", 'How COVID-19 transformed the future of medicine', 'Could we treat spinal cord injuries with asparagus?', 'How nanoparticles could change the way we treat cancer', 'Can you spot the problem with these headlines? (Level 1)', 'The new science of personalized vaccines'], 'Speaker': ['Jonathan Eisen', 'Stefan Larsson', 'Yoav Medan', 'Mia Nacamulli', 'Mary Lou Jepsen', 'Read Montague', 'Philip A. Chan', 'Charles Limb', 'Jeff Leek and Lucy McGowan', 'Andrea M. Henle', 'Allison Ramsey and Mary Staicu', 'Ami Klin', 'Bill Doyle', 'Carson Bruns', 'Melody Smith', 'Amber M. Yates', 'Iain Hutchison', 'Seth Berkley', 'Gerry Wright', 'Sajan Saini', 'Jay Bradner', 'Cella Wright', 'John Wilbanks', 'Bill Schutt', 'Emma Bryce', 'Kiran Mazumdar-Shaw', 'Christian Moro', 'Sheila Nirenberg', 'Danny Hillis', \"Ellen 't Hoen\", 'Kaitlyn Sadtler and Heather J. Faust', 'Daniel Kraft', 'Andrew Pelling', 'Joy Wolfram', 'Jeff Leek and Lucy McGowan', 'Ofer Levy'], 'Duration': ['14:16', '12:56', '16:13', ' 4:55', '16:50', '13:23', ' 4:32', '15:59', ' 5:24', ' 5:11', ' 4:36', '19:37', '15:35', '10:58', ' 4:21', ' 4:34', '15:54', '1h  2m', ' 5:59', ' 5:07', '12:47', ' 4:44', '16:25', ' 4:28', ' 4:11', '14:19', ' 5:17', '10:01', '19:55', '11:16', ' 4:10', '14:52', ' 7:27', '10:53', ' 4:49', '11:44'], 'Views': ['909K', '899K', '861K', '859K', '833K', '784K', '781K', '745K', '720K', '720K', '711K', '707K', '696K', '694K', '691K', '671K', '666K', '614K', '612K', '611K', '608K', '594K', '593K', '585K', '566K', '502K', '494K', '483K', '475K', '437K', '432K', '419K', '396K', '392K', '389K', '360K'], 'URLs': ['https://www.ted.com//talks/jonathan_eisen_meet_your_microbes', 'https://www.ted.com//talks/stefan_larsson_what_doctors_can_learn_from_each_other', 'https://www.ted.com//talks/yoav_medan_ultrasound_surgery_healing_without_cuts', 'https://www.ted.com//talks/mia_nacamulli_what_is_obesity', 'https://www.ted.com//talks/mary_lou_jepsen_how_we_can_use_light_to_see_deep_inside_our_bodies_and_brains', 'https://www.ted.com//talks/read_montague_what_we_re_learning_from_5_000_brains', 'https://www.ted.com//talks/philip_a_chan_how_close_are_we_to_eradicating_hiv', 'https://www.ted.com//talks/charles_limb_building_the_musical_muscle', 'https://www.ted.com//talks/jeff_leek_and_lucy_mcgowan_this_one_weird_trick_will_help_you_spot_clickbait', 'https://www.ted.com//talks/andrea_m_henle_how_crispr_lets_you_edit_dna', 'https://www.ted.com//talks/allison_ramsey_and_mary_staicu_the_accident_that_changed_the_world', 'https://www.ted.com//talks/ami_klin_a_new_way_to_diagnose_autism', 'https://www.ted.com//talks/bill_doyle_treating_cancer_with_electric_fields', 'https://www.ted.com//talks/carson_bruns_could_a_tattoo_help_you_stay_healthy', 'https://www.ted.com//talks/melody_smith_how_bones_make_blood', 'https://www.ted.com//talks/amber_m_yates_how_this_disease_changes_the_shape_of_your_cells', 'https://www.ted.com//talks/iain_hutchison_saving_faces_a_facial_surgeon_s_craft', 'https://www.ted.com//talks/seth_berkley_the_quest_for_the_coronavirus_vaccine', 'https://www.ted.com//talks/gerry_wright_how_can_we_solve_the_antibiotic_resistance_crisis', 'https://www.ted.com//talks/sajan_saini_how_light_technology_is_changing_medicine', 'https://www.ted.com//talks/jay_bradner_open_source_cancer_research', 'https://www.ted.com//talks/cella_wright_how_do_you_know_if_you_have_a_virus', 'https://www.ted.com//talks/john_wilbanks_let_s_pool_our_medical_data', 'https://www.ted.com//talks/bill_schutt_how_do_blood_transfusions_work', 'https://www.ted.com//talks/emma_bryce_what_is_hpv_and_how_can_you_protect_yourself_from_it', 'https://www.ted.com//talks/kiran_mazumdar_shaw_the_global_cooperation_that_accelerated_the_covid_19_vaccines', 'https://www.ted.com//talks/christian_moro_why_do_you_get_a_fever_when_you_re_sick', 'https://www.ted.com//talks/sheila_nirenberg_a_prosthetic_eye_to_treat_blindness', 'https://www.ted.com//talks/danny_hillis_understanding_cancer_through_proteomics', 'https://www.ted.com//talks/ellen_t_hoen_pool_medical_patents_save_lives', 'https://www.ted.com//talks/kaitlyn_sadtler_and_heather_j_faust_why_haven_t_we_cured_arthritis', 'https://www.ted.com//talks/daniel_kraft_how_covid_19_transformed_the_future_of_medicine', 'https://www.ted.com//talks/andrew_pelling_could_we_treat_spinal_cord_injuries_with_asparagus', 'https://www.ted.com//talks/joy_wolfram_how_nanoparticles_could_change_the_way_we_treat_cancer', 'https://www.ted.com//talks/jeff_leek_and_lucy_mcgowan_can_you_spot_the_problem_with_these_headlines_level_1', 'https://www.ted.com//talks/ofer_levy_the_new_science_of_personalized_vaccines']}\n"
     ]
    }
   ],
   "source": [
    "#calling our function\n",
    "final = scrape_talks(talks_url,5)"
   ]
  },
  {
   "cell_type": "code",
   "execution_count": 48,
   "metadata": {},
   "outputs": [
    {
     "data": {
      "text/html": [
       "<div>\n",
       "<style scoped>\n",
       "    .dataframe tbody tr th:only-of-type {\n",
       "        vertical-align: middle;\n",
       "    }\n",
       "\n",
       "    .dataframe tbody tr th {\n",
       "        vertical-align: top;\n",
       "    }\n",
       "\n",
       "    .dataframe thead th {\n",
       "        text-align: right;\n",
       "    }\n",
       "</style>\n",
       "<table border=\"1\" class=\"dataframe\">\n",
       "  <thead>\n",
       "    <tr style=\"text-align: right;\">\n",
       "      <th></th>\n",
       "      <th>Title</th>\n",
       "      <th>Speaker</th>\n",
       "      <th>Duration</th>\n",
       "      <th>Views</th>\n",
       "      <th>URLs</th>\n",
       "    </tr>\n",
       "  </thead>\n",
       "  <tbody>\n",
       "    <tr>\n",
       "      <th>0</th>\n",
       "      <td>Sleep is your superpower</td>\n",
       "      <td>Matt Walker</td>\n",
       "      <td>19:18</td>\n",
       "      <td>13M</td>\n",
       "      <td>https://www.ted.com//talks/matt_walker_sleep_i...</td>\n",
       "    </tr>\n",
       "    <tr>\n",
       "      <th>1</th>\n",
       "      <td>You can grow new brain cells. Here's how</td>\n",
       "      <td>Sandrine Thuret</td>\n",
       "      <td>11:04</td>\n",
       "      <td>9.6M</td>\n",
       "      <td>https://www.ted.com//talks/sandrine_thuret_you...</td>\n",
       "    </tr>\n",
       "    <tr>\n",
       "      <th>2</th>\n",
       "      <td>How does anesthesia work?</td>\n",
       "      <td>Steven Zheng</td>\n",
       "      <td>4:41</td>\n",
       "      <td>9.1M</td>\n",
       "      <td>https://www.ted.com//talks/steven_zheng_how_do...</td>\n",
       "    </tr>\n",
       "    <tr>\n",
       "      <th>3</th>\n",
       "      <td>Conception to birth — visualized</td>\n",
       "      <td>Alexander Tsiaras</td>\n",
       "      <td>9:37</td>\n",
       "      <td>8.1M</td>\n",
       "      <td>https://www.ted.com//talks/alexander_tsiaras_c...</td>\n",
       "    </tr>\n",
       "    <tr>\n",
       "      <th>4</th>\n",
       "      <td>Is marijuana bad for your brain?</td>\n",
       "      <td>Anees Bahji</td>\n",
       "      <td>6:21</td>\n",
       "      <td>5.8M</td>\n",
       "      <td>https://www.ted.com//talks/anees_bahji_is_mari...</td>\n",
       "    </tr>\n",
       "    <tr>\n",
       "      <th>...</th>\n",
       "      <td>...</td>\n",
       "      <td>...</td>\n",
       "      <td>...</td>\n",
       "      <td>...</td>\n",
       "      <td>...</td>\n",
       "    </tr>\n",
       "    <tr>\n",
       "      <th>175</th>\n",
       "      <td>How COVID-19 transformed the future of medicine</td>\n",
       "      <td>Daniel Kraft</td>\n",
       "      <td>14:52</td>\n",
       "      <td>419K</td>\n",
       "      <td>https://www.ted.com//talks/daniel_kraft_how_co...</td>\n",
       "    </tr>\n",
       "    <tr>\n",
       "      <th>176</th>\n",
       "      <td>Could we treat spinal cord injuries with aspar...</td>\n",
       "      <td>Andrew Pelling</td>\n",
       "      <td>7:27</td>\n",
       "      <td>396K</td>\n",
       "      <td>https://www.ted.com//talks/andrew_pelling_coul...</td>\n",
       "    </tr>\n",
       "    <tr>\n",
       "      <th>177</th>\n",
       "      <td>How nanoparticles could change the way we trea...</td>\n",
       "      <td>Joy Wolfram</td>\n",
       "      <td>10:53</td>\n",
       "      <td>392K</td>\n",
       "      <td>https://www.ted.com//talks/joy_wolfram_how_nan...</td>\n",
       "    </tr>\n",
       "    <tr>\n",
       "      <th>178</th>\n",
       "      <td>Can you spot the problem with these headlines?...</td>\n",
       "      <td>Jeff Leek and Lucy McGowan</td>\n",
       "      <td>4:49</td>\n",
       "      <td>389K</td>\n",
       "      <td>https://www.ted.com//talks/jeff_leek_and_lucy_...</td>\n",
       "    </tr>\n",
       "    <tr>\n",
       "      <th>179</th>\n",
       "      <td>The new science of personalized vaccines</td>\n",
       "      <td>Ofer Levy</td>\n",
       "      <td>11:44</td>\n",
       "      <td>360K</td>\n",
       "      <td>https://www.ted.com//talks/ofer_levy_the_new_s...</td>\n",
       "    </tr>\n",
       "  </tbody>\n",
       "</table>\n",
       "<p>180 rows × 5 columns</p>\n",
       "</div>"
      ],
      "text/plain": [
       "                                                 Title  \\\n",
       "0                             Sleep is your superpower   \n",
       "1             You can grow new brain cells. Here's how   \n",
       "2                            How does anesthesia work?   \n",
       "3                     Conception to birth — visualized   \n",
       "4                     Is marijuana bad for your brain?   \n",
       "..                                                 ...   \n",
       "175    How COVID-19 transformed the future of medicine   \n",
       "176  Could we treat spinal cord injuries with aspar...   \n",
       "177  How nanoparticles could change the way we trea...   \n",
       "178  Can you spot the problem with these headlines?...   \n",
       "179           The new science of personalized vaccines   \n",
       "\n",
       "                        Speaker Duration Views  \\\n",
       "0                   Matt Walker    19:18   13M   \n",
       "1               Sandrine Thuret    11:04  9.6M   \n",
       "2                  Steven Zheng     4:41  9.1M   \n",
       "3             Alexander Tsiaras     9:37  8.1M   \n",
       "4                   Anees Bahji     6:21  5.8M   \n",
       "..                          ...      ...   ...   \n",
       "175                Daniel Kraft    14:52  419K   \n",
       "176              Andrew Pelling     7:27  396K   \n",
       "177                 Joy Wolfram    10:53  392K   \n",
       "178  Jeff Leek and Lucy McGowan     4:49  389K   \n",
       "179                   Ofer Levy    11:44  360K   \n",
       "\n",
       "                                                  URLs  \n",
       "0    https://www.ted.com//talks/matt_walker_sleep_i...  \n",
       "1    https://www.ted.com//talks/sandrine_thuret_you...  \n",
       "2    https://www.ted.com//talks/steven_zheng_how_do...  \n",
       "3    https://www.ted.com//talks/alexander_tsiaras_c...  \n",
       "4    https://www.ted.com//talks/anees_bahji_is_mari...  \n",
       "..                                                 ...  \n",
       "175  https://www.ted.com//talks/daniel_kraft_how_co...  \n",
       "176  https://www.ted.com//talks/andrew_pelling_coul...  \n",
       "177  https://www.ted.com//talks/joy_wolfram_how_nan...  \n",
       "178  https://www.ted.com//talks/jeff_leek_and_lucy_...  \n",
       "179  https://www.ted.com//talks/ofer_levy_the_new_s...  \n",
       "\n",
       "[180 rows x 5 columns]"
      ]
     },
     "execution_count": 48,
     "metadata": {},
     "output_type": "execute_result"
    }
   ],
   "source": [
    "final\n"
   ]
  },
  {
   "cell_type": "markdown",
   "metadata": {},
   "source": [
    "## Project summary"
   ]
  },
  {
   "cell_type": "markdown",
   "metadata": {},
   "source": [
    "We have been able to create a csv file containing the following information:\n",
    "- Talk title\n",
    "- Speaker names\n",
    "- Talk duration\n",
    "- Talk views\n",
    "- Talk urls\n",
    "\n",
    "We have also been able to see how we can use `requests`,`Beautiful Soup` and `Pandas` to scrape web pages and extract useful information from them."
   ]
  },
  {
   "cell_type": "markdown",
   "metadata": {},
   "source": [
    "## Future work"
   ]
  },
  {
   "cell_type": "markdown",
   "metadata": {},
   "source": [
    "Would you be interested in learning to scrape websites using API. Also, different websites have different structures that is worth exploring.Those are some projects that I'm interested in undertaking.\n"
   ]
  },
  {
   "cell_type": "markdown",
   "metadata": {},
   "source": [
    "## References"
   ]
  },
  {
   "cell_type": "markdown",
   "metadata": {},
   "source": [
    "Below are some links that proved helpful in completing this project.\n",
    "- https://www.youtube.com/watch?v=RKsLLG-bzEY&t=6080s&ab_channel=JovianJovian\n",
    "- https://docs.python-requests.org/en/master/\n",
    "- https://www.crummy.com/software/BeautifulSoup\n",
    "- https://finddatalab.com/web-scraping\n",
    "    "
   ]
  },
  {
   "cell_type": "code",
   "execution_count": 49,
   "metadata": {},
   "outputs": [],
   "source": [
    "import jovian"
   ]
  },
  {
   "cell_type": "code",
   "execution_count": 50,
   "metadata": {},
   "outputs": [
    {
     "data": {
      "application/javascript": [
       "window.require && require([\"base/js/namespace\"],function(Jupyter){Jupyter.notebook.save_checkpoint()})"
      ],
      "text/plain": [
       "<IPython.core.display.Javascript object>"
      ]
     },
     "metadata": {},
     "output_type": "display_data"
    },
    {
     "name": "stdout",
     "output_type": "stream",
     "text": [
      "[jovian] Attempting to save notebook..\u001b[0m\n",
      "[jovian] Updating notebook \"dafrireece/data-science-bootcamp-project1\" on https://jovian.ai\u001b[0m\n",
      "[jovian] Uploading notebook..\u001b[0m\n",
      "[jovian] Uploading additional files...\u001b[0m\n",
      "[jovian] Committed successfully! https://jovian.ai/dafrireece/data-science-bootcamp-project1\u001b[0m\n"
     ]
    },
    {
     "data": {
      "text/plain": [
       "'https://jovian.ai/dafrireece/data-science-bootcamp-project1'"
      ]
     },
     "execution_count": 50,
     "metadata": {},
     "output_type": "execute_result"
    }
   ],
   "source": [
    "jovian.commit(project='data-science-bootcamp-project-1', file = 'talks.csv')"
   ]
  },
  {
   "cell_type": "code",
   "execution_count": null,
   "metadata": {},
   "outputs": [],
   "source": []
  }
 ],
 "metadata": {
  "language_info": {
   "codemirror_mode": {
    "name": "ipython",
    "version": 3
   },
   "file_extension": ".py",
   "mimetype": "text/x-python",
   "name": "python",
   "nbconvert_exporter": "python",
   "pygments_lexer": "ipython3",
   "version": "3.8.6"
  }
 },
 "nbformat": 4,
 "nbformat_minor": 2
}
